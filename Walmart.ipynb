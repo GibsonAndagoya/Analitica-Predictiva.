{
 "cells": [
  {
   "cell_type": "markdown",
   "id": "4cba3453-be2e-484c-af17-b5a8d0101a80",
   "metadata": {},
   "source": [
    "# Caso Final."
   ]
  },
  {
   "cell_type": "markdown",
   "id": "21e48580-ab95-4b6f-862d-2dedb16ce2aa",
   "metadata": {},
   "source": [
    "By: Gibson Andagoya."
   ]
  },
  {
   "cell_type": "markdown",
   "id": "13542509-5022-4c13-9c8d-c4605d511622",
   "metadata": {},
   "source": [
    "## Importe la base de datos a una base en Jupyter Notebook con pandas. "
   ]
  },
  {
   "cell_type": "code",
   "execution_count": 1,
   "id": "d5833718-7e86-4e8d-91cb-ef8e161146da",
   "metadata": {},
   "outputs": [],
   "source": [
    "import pandas as pd\n",
    "import matplotlib.pyplot as plt\n",
    "import seaborn as sns\n",
    "import warnings \n",
    "warnings.filterwarnings(\"ignore\")"
   ]
  },
  {
   "cell_type": "code",
   "execution_count": 2,
   "id": "78909794-8c90-487b-9015-35fbb6f4e836",
   "metadata": {},
   "outputs": [],
   "source": [
    "df=pd.read_csv(\"wm.csv\")"
   ]
  },
  {
   "cell_type": "code",
   "execution_count": 3,
   "id": "e1393bf0-ff72-4630-ba0e-30bd8616a6b5",
   "metadata": {},
   "outputs": [
    {
     "data": {
      "text/html": [
       "<div>\n",
       "<style scoped>\n",
       "    .dataframe tbody tr th:only-of-type {\n",
       "        vertical-align: middle;\n",
       "    }\n",
       "\n",
       "    .dataframe tbody tr th {\n",
       "        vertical-align: top;\n",
       "    }\n",
       "\n",
       "    .dataframe thead th {\n",
       "        text-align: right;\n",
       "    }\n",
       "</style>\n",
       "<table border=\"1\" class=\"dataframe\">\n",
       "  <thead>\n",
       "    <tr style=\"text-align: right;\">\n",
       "      <th></th>\n",
       "      <th>Store</th>\n",
       "      <th>Date</th>\n",
       "      <th>Weekly_Sales</th>\n",
       "      <th>Holiday_Flag</th>\n",
       "      <th>Temperature</th>\n",
       "      <th>Fuel_Price</th>\n",
       "      <th>CPI</th>\n",
       "      <th>Unemployment</th>\n",
       "    </tr>\n",
       "  </thead>\n",
       "  <tbody>\n",
       "    <tr>\n",
       "      <th>0</th>\n",
       "      <td>1</td>\n",
       "      <td>05-02-2010</td>\n",
       "      <td>1643690.90</td>\n",
       "      <td>0</td>\n",
       "      <td>42.31</td>\n",
       "      <td>2.572</td>\n",
       "      <td>211.096358</td>\n",
       "      <td>8.106</td>\n",
       "    </tr>\n",
       "    <tr>\n",
       "      <th>1</th>\n",
       "      <td>1</td>\n",
       "      <td>12-02-2010</td>\n",
       "      <td>1641957.44</td>\n",
       "      <td>1</td>\n",
       "      <td>38.51</td>\n",
       "      <td>2.548</td>\n",
       "      <td>211.242170</td>\n",
       "      <td>8.106</td>\n",
       "    </tr>\n",
       "    <tr>\n",
       "      <th>2</th>\n",
       "      <td>1</td>\n",
       "      <td>19-02-2010</td>\n",
       "      <td>1611968.17</td>\n",
       "      <td>0</td>\n",
       "      <td>39.93</td>\n",
       "      <td>2.514</td>\n",
       "      <td>211.289143</td>\n",
       "      <td>8.106</td>\n",
       "    </tr>\n",
       "    <tr>\n",
       "      <th>3</th>\n",
       "      <td>1</td>\n",
       "      <td>26-02-2010</td>\n",
       "      <td>1409727.59</td>\n",
       "      <td>0</td>\n",
       "      <td>46.63</td>\n",
       "      <td>2.561</td>\n",
       "      <td>211.319643</td>\n",
       "      <td>8.106</td>\n",
       "    </tr>\n",
       "    <tr>\n",
       "      <th>4</th>\n",
       "      <td>1</td>\n",
       "      <td>05-03-2010</td>\n",
       "      <td>1554806.68</td>\n",
       "      <td>0</td>\n",
       "      <td>46.50</td>\n",
       "      <td>2.625</td>\n",
       "      <td>211.350143</td>\n",
       "      <td>8.106</td>\n",
       "    </tr>\n",
       "  </tbody>\n",
       "</table>\n",
       "</div>"
      ],
      "text/plain": [
       "   Store        Date  Weekly_Sales  Holiday_Flag  Temperature  Fuel_Price  \\\n",
       "0      1  05-02-2010    1643690.90             0        42.31       2.572   \n",
       "1      1  12-02-2010    1641957.44             1        38.51       2.548   \n",
       "2      1  19-02-2010    1611968.17             0        39.93       2.514   \n",
       "3      1  26-02-2010    1409727.59             0        46.63       2.561   \n",
       "4      1  05-03-2010    1554806.68             0        46.50       2.625   \n",
       "\n",
       "          CPI  Unemployment  \n",
       "0  211.096358         8.106  \n",
       "1  211.242170         8.106  \n",
       "2  211.289143         8.106  \n",
       "3  211.319643         8.106  \n",
       "4  211.350143         8.106  "
      ]
     },
     "execution_count": 3,
     "metadata": {},
     "output_type": "execute_result"
    }
   ],
   "source": [
    "df.head()"
   ]
  },
  {
   "cell_type": "markdown",
   "id": "4f9d473f-9935-4e9f-b8f6-acf44b920b96",
   "metadata": {},
   "source": [
    "## Evalúe si la base contiene datos perdidos."
   ]
  },
  {
   "cell_type": "code",
   "execution_count": 4,
   "id": "f9493f30-4094-46e9-a53b-73c13f96e8d4",
   "metadata": {},
   "outputs": [
    {
     "name": "stdout",
     "output_type": "stream",
     "text": [
      "Store           0\n",
      "Date            0\n",
      "Weekly_Sales    0\n",
      "Holiday_Flag    0\n",
      "Temperature     0\n",
      "Fuel_Price      0\n",
      "CPI             0\n",
      "Unemployment    0\n",
      "dtype: int64\n"
     ]
    }
   ],
   "source": [
    "missing = df.isna().sum()\n",
    "print(missing)"
   ]
  },
  {
   "cell_type": "markdown",
   "id": "2bb16c0a-f04e-41e3-b36c-a1c7199bb58f",
   "metadata": {},
   "source": [
    "\n",
    "## Obtenga los descriptivos resumen de la base de datos e identifique a las variables numéricas y categóricas. ¿Hay algo que le llame la atención? "
   ]
  },
  {
   "cell_type": "code",
   "execution_count": 5,
   "id": "33445618-125a-43c7-ab35-1900bdbd5f95",
   "metadata": {},
   "outputs": [],
   "source": [
    "import statsmodels.stats.api as sms\n",
    "import statsmodels.api as sm\n",
    "from statsmodels.formula.api import ols\n",
    "from statsmodels.compat import lzip"
   ]
  },
  {
   "cell_type": "code",
   "execution_count": 6,
   "id": "8aa0036a-ffe5-425d-9de8-71cb75e68ef4",
   "metadata": {},
   "outputs": [
    {
     "data": {
      "text/html": [
       "<div>\n",
       "<style scoped>\n",
       "    .dataframe tbody tr th:only-of-type {\n",
       "        vertical-align: middle;\n",
       "    }\n",
       "\n",
       "    .dataframe tbody tr th {\n",
       "        vertical-align: top;\n",
       "    }\n",
       "\n",
       "    .dataframe thead th {\n",
       "        text-align: right;\n",
       "    }\n",
       "</style>\n",
       "<table border=\"1\" class=\"dataframe\">\n",
       "  <thead>\n",
       "    <tr style=\"text-align: right;\">\n",
       "      <th></th>\n",
       "      <th>Store</th>\n",
       "      <th>Date</th>\n",
       "      <th>Weekly_Sales</th>\n",
       "      <th>Holiday_Flag</th>\n",
       "      <th>CPI</th>\n",
       "      <th>Unemployment</th>\n",
       "    </tr>\n",
       "  </thead>\n",
       "  <tbody>\n",
       "    <tr>\n",
       "      <th>0</th>\n",
       "      <td>1</td>\n",
       "      <td>05-02-2010</td>\n",
       "      <td>1643690.90</td>\n",
       "      <td>0</td>\n",
       "      <td>211.096358</td>\n",
       "      <td>8.106</td>\n",
       "    </tr>\n",
       "    <tr>\n",
       "      <th>1</th>\n",
       "      <td>1</td>\n",
       "      <td>12-02-2010</td>\n",
       "      <td>1641957.44</td>\n",
       "      <td>1</td>\n",
       "      <td>211.242170</td>\n",
       "      <td>8.106</td>\n",
       "    </tr>\n",
       "    <tr>\n",
       "      <th>2</th>\n",
       "      <td>1</td>\n",
       "      <td>19-02-2010</td>\n",
       "      <td>1611968.17</td>\n",
       "      <td>0</td>\n",
       "      <td>211.289143</td>\n",
       "      <td>8.106</td>\n",
       "    </tr>\n",
       "    <tr>\n",
       "      <th>3</th>\n",
       "      <td>1</td>\n",
       "      <td>26-02-2010</td>\n",
       "      <td>1409727.59</td>\n",
       "      <td>0</td>\n",
       "      <td>211.319643</td>\n",
       "      <td>8.106</td>\n",
       "    </tr>\n",
       "    <tr>\n",
       "      <th>4</th>\n",
       "      <td>1</td>\n",
       "      <td>05-03-2010</td>\n",
       "      <td>1554806.68</td>\n",
       "      <td>0</td>\n",
       "      <td>211.350143</td>\n",
       "      <td>8.106</td>\n",
       "    </tr>\n",
       "    <tr>\n",
       "      <th>...</th>\n",
       "      <td>...</td>\n",
       "      <td>...</td>\n",
       "      <td>...</td>\n",
       "      <td>...</td>\n",
       "      <td>...</td>\n",
       "      <td>...</td>\n",
       "    </tr>\n",
       "    <tr>\n",
       "      <th>6430</th>\n",
       "      <td>45</td>\n",
       "      <td>28-09-2012</td>\n",
       "      <td>713173.95</td>\n",
       "      <td>0</td>\n",
       "      <td>192.013558</td>\n",
       "      <td>8.684</td>\n",
       "    </tr>\n",
       "    <tr>\n",
       "      <th>6431</th>\n",
       "      <td>45</td>\n",
       "      <td>05-10-2012</td>\n",
       "      <td>733455.07</td>\n",
       "      <td>0</td>\n",
       "      <td>192.170412</td>\n",
       "      <td>8.667</td>\n",
       "    </tr>\n",
       "    <tr>\n",
       "      <th>6432</th>\n",
       "      <td>45</td>\n",
       "      <td>12-10-2012</td>\n",
       "      <td>734464.36</td>\n",
       "      <td>0</td>\n",
       "      <td>192.327265</td>\n",
       "      <td>8.667</td>\n",
       "    </tr>\n",
       "    <tr>\n",
       "      <th>6433</th>\n",
       "      <td>45</td>\n",
       "      <td>19-10-2012</td>\n",
       "      <td>718125.53</td>\n",
       "      <td>0</td>\n",
       "      <td>192.330854</td>\n",
       "      <td>8.667</td>\n",
       "    </tr>\n",
       "    <tr>\n",
       "      <th>6434</th>\n",
       "      <td>45</td>\n",
       "      <td>26-10-2012</td>\n",
       "      <td>760281.43</td>\n",
       "      <td>0</td>\n",
       "      <td>192.308899</td>\n",
       "      <td>8.667</td>\n",
       "    </tr>\n",
       "  </tbody>\n",
       "</table>\n",
       "<p>6435 rows × 6 columns</p>\n",
       "</div>"
      ],
      "text/plain": [
       "      Store        Date  Weekly_Sales  Holiday_Flag         CPI  Unemployment\n",
       "0         1  05-02-2010    1643690.90             0  211.096358         8.106\n",
       "1         1  12-02-2010    1641957.44             1  211.242170         8.106\n",
       "2         1  19-02-2010    1611968.17             0  211.289143         8.106\n",
       "3         1  26-02-2010    1409727.59             0  211.319643         8.106\n",
       "4         1  05-03-2010    1554806.68             0  211.350143         8.106\n",
       "...     ...         ...           ...           ...         ...           ...\n",
       "6430     45  28-09-2012     713173.95             0  192.013558         8.684\n",
       "6431     45  05-10-2012     733455.07             0  192.170412         8.667\n",
       "6432     45  12-10-2012     734464.36             0  192.327265         8.667\n",
       "6433     45  19-10-2012     718125.53             0  192.330854         8.667\n",
       "6434     45  26-10-2012     760281.43             0  192.308899         8.667\n",
       "\n",
       "[6435 rows x 6 columns]"
      ]
     },
     "execution_count": 6,
     "metadata": {},
     "output_type": "execute_result"
    }
   ],
   "source": [
    "df=df[['Store', 'Date', 'Weekly_Sales', 'Holiday_Flag', \"CPI\", \"Unemployment\"]]\n",
    "df"
   ]
  },
  {
   "cell_type": "code",
   "execution_count": 7,
   "id": "766da1aa-7207-42de-a281-ea4e8f794c13",
   "metadata": {},
   "outputs": [
    {
     "data": {
      "text/html": [
       "<div>\n",
       "<style scoped>\n",
       "    .dataframe tbody tr th:only-of-type {\n",
       "        vertical-align: middle;\n",
       "    }\n",
       "\n",
       "    .dataframe tbody tr th {\n",
       "        vertical-align: top;\n",
       "    }\n",
       "\n",
       "    .dataframe thead th {\n",
       "        text-align: right;\n",
       "    }\n",
       "</style>\n",
       "<table border=\"1\" class=\"dataframe\">\n",
       "  <thead>\n",
       "    <tr style=\"text-align: right;\">\n",
       "      <th></th>\n",
       "      <th>Store</th>\n",
       "      <th>Weekly_Sales</th>\n",
       "      <th>Holiday_Flag</th>\n",
       "      <th>CPI</th>\n",
       "      <th>Unemployment</th>\n",
       "    </tr>\n",
       "  </thead>\n",
       "  <tbody>\n",
       "    <tr>\n",
       "      <th>count</th>\n",
       "      <td>6435.000000</td>\n",
       "      <td>6.435000e+03</td>\n",
       "      <td>6435.000000</td>\n",
       "      <td>6435.000000</td>\n",
       "      <td>6435.000000</td>\n",
       "    </tr>\n",
       "    <tr>\n",
       "      <th>mean</th>\n",
       "      <td>23.000000</td>\n",
       "      <td>1.046965e+06</td>\n",
       "      <td>0.069930</td>\n",
       "      <td>171.578394</td>\n",
       "      <td>7.999151</td>\n",
       "    </tr>\n",
       "    <tr>\n",
       "      <th>std</th>\n",
       "      <td>12.988182</td>\n",
       "      <td>5.643666e+05</td>\n",
       "      <td>0.255049</td>\n",
       "      <td>39.356712</td>\n",
       "      <td>1.875885</td>\n",
       "    </tr>\n",
       "    <tr>\n",
       "      <th>min</th>\n",
       "      <td>1.000000</td>\n",
       "      <td>2.099862e+05</td>\n",
       "      <td>0.000000</td>\n",
       "      <td>126.064000</td>\n",
       "      <td>3.879000</td>\n",
       "    </tr>\n",
       "    <tr>\n",
       "      <th>25%</th>\n",
       "      <td>12.000000</td>\n",
       "      <td>5.533501e+05</td>\n",
       "      <td>0.000000</td>\n",
       "      <td>131.735000</td>\n",
       "      <td>6.891000</td>\n",
       "    </tr>\n",
       "    <tr>\n",
       "      <th>50%</th>\n",
       "      <td>23.000000</td>\n",
       "      <td>9.607460e+05</td>\n",
       "      <td>0.000000</td>\n",
       "      <td>182.616521</td>\n",
       "      <td>7.874000</td>\n",
       "    </tr>\n",
       "    <tr>\n",
       "      <th>75%</th>\n",
       "      <td>34.000000</td>\n",
       "      <td>1.420159e+06</td>\n",
       "      <td>0.000000</td>\n",
       "      <td>212.743293</td>\n",
       "      <td>8.622000</td>\n",
       "    </tr>\n",
       "    <tr>\n",
       "      <th>max</th>\n",
       "      <td>45.000000</td>\n",
       "      <td>3.818686e+06</td>\n",
       "      <td>1.000000</td>\n",
       "      <td>227.232807</td>\n",
       "      <td>14.313000</td>\n",
       "    </tr>\n",
       "  </tbody>\n",
       "</table>\n",
       "</div>"
      ],
      "text/plain": [
       "             Store  Weekly_Sales  Holiday_Flag          CPI  Unemployment\n",
       "count  6435.000000  6.435000e+03   6435.000000  6435.000000   6435.000000\n",
       "mean     23.000000  1.046965e+06      0.069930   171.578394      7.999151\n",
       "std      12.988182  5.643666e+05      0.255049    39.356712      1.875885\n",
       "min       1.000000  2.099862e+05      0.000000   126.064000      3.879000\n",
       "25%      12.000000  5.533501e+05      0.000000   131.735000      6.891000\n",
       "50%      23.000000  9.607460e+05      0.000000   182.616521      7.874000\n",
       "75%      34.000000  1.420159e+06      0.000000   212.743293      8.622000\n",
       "max      45.000000  3.818686e+06      1.000000   227.232807     14.313000"
      ]
     },
     "execution_count": 7,
     "metadata": {},
     "output_type": "execute_result"
    }
   ],
   "source": [
    "df.describe()"
   ]
  },
  {
   "cell_type": "markdown",
   "id": "15824f72-a4aa-4f16-813f-eeaf2098d237",
   "metadata": {},
   "source": [
    "## Evalúe si alguna de las variables contiene datos atípicos (outliers) "
   ]
  },
  {
   "cell_type": "code",
   "execution_count": 8,
   "id": "a4327574-9bcb-4df8-ab5d-e5ba9d0ebdd9",
   "metadata": {},
   "outputs": [
    {
     "data": {
      "text/plain": [
       "<seaborn.axisgrid.FacetGrid at 0x7fb138a297e0>"
      ]
     },
     "execution_count": 8,
     "metadata": {},
     "output_type": "execute_result"
    },
    {
     "data": {
      "image/png": "[encoded data removed]",
      "text/plain": [
       "<Figure size 500x500 with 1 Axes>"
      ]
     },
     "metadata": {},
     "output_type": "display_data"
    }
   ],
   "source": [
    "sns.displot(df[\"Weekly_Sales\"])"
   ]
  },
  {
   "cell_type": "markdown",
   "id": "04d064a8-235f-49ac-bd5a-f019c4c3745e",
   "metadata": {},
   "source": [
    "Considero que la unica variable de la cual podria determinar si existen datos a tipicos o no, es en cuanto a las ventas semanales, ya que en primera isntancia se removio la variable temperatura y Fuel debido a que no considero importante en este analisis, las variabes restantes como el holiday flag no podria contener datos atipicos debido a que solo existen dos opciones, 0 y 1 esto podemos observarlo claramente en el grafico posterior."
   ]
  },
  {
   "cell_type": "markdown",
   "id": "c6cc754b-4dd6-49ef-9c85-66df84721284",
   "metadata": {},
   "source": [
    "## Grafique las distribuciones de las vsriables y a priori comente sobre ellas. "
   ]
  },
  {
   "cell_type": "code",
   "execution_count": 9,
   "id": "218a14b8-c646-4b29-80d4-452be2236a08",
   "metadata": {},
   "outputs": [
    {
     "data": {
      "text/plain": [
       "<seaborn.axisgrid.FacetGrid at 0x7fb12033a470>"
      ]
     },
     "execution_count": 9,
     "metadata": {},
     "output_type": "execute_result"
    },
    {
     "data": {
      "image/png": "[encoded data removed]",
      "text/plain": [
       "<Figure size 500x500 with 1 Axes>"
      ]
     },
     "metadata": {},
     "output_type": "display_data"
    }
   ],
   "source": [
    "sns.displot(df[\"Holiday_Flag\"])"
   ]
  },
  {
   "cell_type": "markdown",
   "id": "ebc24ddf-cec8-4b91-b51a-a8f6f6d6d559",
   "metadata": {},
   "source": [
    "En el grafico sobre los dias festivos podemos observar que solo existen dos opciones 0 y 1 por lo que no podriamos remover datos atipicos de esta variable."
   ]
  },
  {
   "cell_type": "code",
   "execution_count": 10,
   "id": "2a1ab367-04e8-425b-a1e3-9257c126d00c",
   "metadata": {},
   "outputs": [
    {
     "data": {
      "text/plain": [
       "<seaborn.axisgrid.FacetGrid at 0x7fb128116050>"
      ]
     },
     "execution_count": 10,
     "metadata": {},
     "output_type": "execute_result"
    },
    {
     "data": {
      "image/png": "[encoded data removed]",
      "text/plain": [
       "<Figure size 500x500 with 1 Axes>"
      ]
     },
     "metadata": {},
     "output_type": "display_data"
    }
   ],
   "source": [
    "sns.displot(df[\"CPI\"])"
   ]
  },
  {
   "cell_type": "markdown",
   "id": "d6f1aad5-76c7-472e-b6a8-b446c0947359",
   "metadata": {},
   "source": [
    "Tambien en el grafico de distribución del CPI podemos observar que no sigue una distribución normal y no tenemos datos en las colas los cuales puedan ser extraidos del analisis."
   ]
  },
  {
   "cell_type": "code",
   "execution_count": 11,
   "id": "419c69a8-b46a-4a0c-adfb-f4b3524c5024",
   "metadata": {},
   "outputs": [
    {
     "data": {
      "text/plain": [
       "<seaborn.axisgrid.FacetGrid at 0x7fb14bcf2950>"
      ]
     },
     "execution_count": 11,
     "metadata": {},
     "output_type": "execute_result"
    },
    {
     "data": {
      "image/png": "[encoded data removed]",
      "text/plain": [
       "<Figure size 500x500 with 1 Axes>"
      ]
     },
     "metadata": {},
     "output_type": "display_data"
    }
   ],
   "source": [
    "sns.displot(df[\"Unemployment\"])"
   ]
  },
  {
   "cell_type": "markdown",
   "id": "2cf222da-9a70-4f62-88df-1416f21b8c65",
   "metadata": {},
   "source": [
    "En los datos de desemeplo podemos observar que existen ciertos datos que parecen salir del rango o parametro dentro de los cuartiles establecidos a esta variable tambien aplicaremos el diagrama de bigotes y cajas para extraer los datos atipicos."
   ]
  },
  {
   "cell_type": "code",
   "execution_count": 12,
   "id": "7109d6be-052b-42e0-a86f-4de24fd13918",
   "metadata": {},
   "outputs": [
    {
     "data": {
      "text/plain": [
       "<seaborn.axisgrid.FacetGrid at 0x7fb14bcd07c0>"
      ]
     },
     "execution_count": 12,
     "metadata": {},
     "output_type": "execute_result"
    },
    {
     "data": {
      "image/png": "[encoded data removed]",
      "text/plain": [
       "<Figure size 500x500 with 1 Axes>"
      ]
     },
     "metadata": {},
     "output_type": "display_data"
    }
   ],
   "source": [
    "sns.displot(df[\"Store\"])"
   ]
  },
  {
   "cell_type": "markdown",
   "id": "5f7c47f3-dcb9-4a17-b6ad-17b3d3c22c59",
   "metadata": {},
   "source": [
    "En cuanto a la variable store podemos observar que no existe ningun tipo de distribución normal debido a que esta es una variable categorica y muestra tan solo el reconteo de los numeros de tiendas a esta variable tampoco se le aplicara ningun tipo de correctivo."
   ]
  },
  {
   "cell_type": "markdown",
   "id": "e8c99c2f-1235-4f82-888a-f2b7b1161ed6",
   "metadata": {},
   "source": [
    "## De ser el caso, detalle cuáles y qué método estadístico aplicarán para corregir. "
   ]
  },
  {
   "cell_type": "markdown",
   "id": "1e9a00af-ce0e-479f-9dfe-39d12f8eb129",
   "metadata": {},
   "source": [
    "Aplicaremos los cuartiles y el diagrama de caja y bigotes para remover los datos atipicos de la variable Unemployment y Sales."
   ]
  },
  {
   "cell_type": "markdown",
   "id": "1198e0ac-1612-43bb-a984-faff9f95baa4",
   "metadata": {},
   "source": [
    "## Weekly Sales"
   ]
  },
  {
   "cell_type": "code",
   "execution_count": 13,
   "id": "5bc3ba38-f82d-48ad-b8f3-e4884420efda",
   "metadata": {},
   "outputs": [
    {
     "name": "stdout",
     "output_type": "stream",
     "text": [
      "866808.5549999999\n",
      "553350.105\n",
      "1420158.66\n"
     ]
    }
   ],
   "source": [
    "Q1WS=df[\"Weekly_Sales\"].quantile(0.25)\n",
    "Q3WS=df[\"Weekly_Sales\"].quantile(0.75)\n",
    "IQR_Weekly_Sales = Q3WS - Q1WS \n",
    "print(IQR_Weekly_Sales)\n",
    "print(Q1WS)\n",
    "print(Q3WS)"
   ]
  },
  {
   "cell_type": "code",
   "execution_count": 14,
   "id": "b8e58386-ed74-4602-a68e-ee962d51457e",
   "metadata": {},
   "outputs": [
    {
     "data": {
      "image/png": "[encoded data removed]",
      "text/plain": [
       "<Figure size 640x480 with 1 Axes>"
      ]
     },
     "metadata": {},
     "output_type": "display_data"
    }
   ],
   "source": [
    "fig, ax = plt.subplots()\n",
    "ax.boxplot([df['Weekly_Sales']], vert=False, patch_artist=True, boxprops=dict(facecolor='beige', color='k'), medianprops=dict(color='C0', linewidth=1.5), whiskerprops=dict(color='k', linewidth=1.5), capprops=dict(color='k', linewidth=1.5))\n",
    "\n",
    "ax.set_title('Diagrama de caja y bigotes')\n",
    "ax.set_ylabel('Valores')\n",
    "ax.set_xticklabels(['Weekly_Sales'])\n",
    "plt.xticks(rotation=45)\n",
    "\n",
    "\n",
    "plt.show()"
   ]
  },
  {
   "cell_type": "code",
   "execution_count": 15,
   "id": "4df93ae9-c735-44a5-80d9-8131041e664e",
   "metadata": {},
   "outputs": [
    {
     "data": {
      "text/plain": [
       "<bound method Series.count of 0       1643690.90\n",
       "1       1641957.44\n",
       "2       1611968.17\n",
       "3       1409727.59\n",
       "4       1554806.68\n",
       "           ...    \n",
       "6430     713173.95\n",
       "6431     733455.07\n",
       "6432     734464.36\n",
       "6433     718125.53\n",
       "6434     760281.43\n",
       "Name: Weekly_Sales, Length: 6435, dtype: float64>"
      ]
     },
     "execution_count": 15,
     "metadata": {},
     "output_type": "execute_result"
    }
   ],
   "source": [
    "df[\"Weekly_Sales\"].count"
   ]
  },
  {
   "cell_type": "code",
   "execution_count": 16,
   "id": "699a3642-d54a-4478-9384-303f7cb15957",
   "metadata": {},
   "outputs": [],
   "source": [
    "df_original = df.copy()"
   ]
  },
  {
   "cell_type": "code",
   "execution_count": 17,
   "id": "b85df0a9-dd23-4162-8fea-3685a143e0b3",
   "metadata": {},
   "outputs": [],
   "source": [
    "df= df[~((df[\"Weekly_Sales\"]<(Q1WS-1.5*IQR_Weekly_Sales))|(df[\"Weekly_Sales\"]>(Q3WS+1.5*IQR_Weekly_Sales)))]"
   ]
  },
  {
   "cell_type": "code",
   "execution_count": 18,
   "id": "9a80079d-8052-4546-b814-cf33f58c0659",
   "metadata": {},
   "outputs": [
    {
     "data": {
      "text/plain": [
       "<bound method Series.count of 0       1643690.90\n",
       "1       1641957.44\n",
       "2       1611968.17\n",
       "3       1409727.59\n",
       "4       1554806.68\n",
       "           ...    \n",
       "6430     713173.95\n",
       "6431     733455.07\n",
       "6432     734464.36\n",
       "6433     718125.53\n",
       "6434     760281.43\n",
       "Name: Weekly_Sales, Length: 6401, dtype: float64>"
      ]
     },
     "execution_count": 18,
     "metadata": {},
     "output_type": "execute_result"
    }
   ],
   "source": [
    "df[\"Weekly_Sales\"].count"
   ]
  },
  {
   "cell_type": "code",
   "execution_count": 19,
   "id": "de4d54f5-45fb-4c58-b895-24cdef6e42f3",
   "metadata": {},
   "outputs": [
    {
     "data": {
      "image/png": "[encoded data removed]",
      "text/plain": [
       "<Figure size 500x500 with 1 Axes>"
      ]
     },
     "metadata": {},
     "output_type": "display_data"
    }
   ],
   "source": [
    "sns.displot(df[\"Weekly_Sales\"], kde=True)\n",
    "sns.set_style(\"whitegrid\")"
   ]
  },
  {
   "cell_type": "markdown",
   "id": "ea5b9580-ff29-45a5-898e-40c6669b55a1",
   "metadata": {},
   "source": [
    "## Unemployment"
   ]
  },
  {
   "cell_type": "code",
   "execution_count": 20,
   "id": "d2455bdc-e620-48dd-9fef-ffa4a7a5664c",
   "metadata": {},
   "outputs": [
    {
     "name": "stdout",
     "output_type": "stream",
     "text": [
      "1.7309999999999999\n",
      "6.891\n",
      "8.622\n"
     ]
    }
   ],
   "source": [
    "Q1U=df[\"Unemployment\"].quantile(0.25)\n",
    "Q3U=df[\"Unemployment\"].quantile(0.75)\n",
    "IQR_Unemployment = Q3U - Q1U \n",
    "print(IQR_Unemployment)\n",
    "print(Q1U)\n",
    "print(Q3U)"
   ]
  },
  {
   "cell_type": "code",
   "execution_count": 21,
   "id": "cf21a77d-fdf3-4cbd-a3c2-b2aa1b9d2757",
   "metadata": {},
   "outputs": [
    {
     "data": {
      "image/png": "[encoded data removed]",
      "text/plain": [
       "<Figure size 640x480 with 1 Axes>"
      ]
     },
     "metadata": {},
     "output_type": "display_data"
    }
   ],
   "source": [
    "fig, ax = plt.subplots()\n",
    "ax.boxplot([df['Unemployment']], vert=False, patch_artist=True, boxprops=dict(facecolor='beige', color='k'), medianprops=dict(color='C0', linewidth=1.5), whiskerprops=dict(color='k', linewidth=1.5), capprops=dict(color='k', linewidth=1.5))\n",
    "\n",
    "ax.set_title('Diagrama de caja y bigoteS')\n",
    "ax.set_ylabel('Valores')\n",
    "ax.set_xticklabels(['Unemployment'])\n",
    "plt.xticks(rotation=45)\n",
    "\n",
    "\n",
    "plt.show()"
   ]
  },
  {
   "cell_type": "code",
   "execution_count": 22,
   "id": "41d069e3-3618-4e5c-8db8-f356bd52b647",
   "metadata": {},
   "outputs": [
    {
     "data": {
      "text/plain": [
       "<bound method Series.count of 0       8.106\n",
       "1       8.106\n",
       "2       8.106\n",
       "3       8.106\n",
       "4       8.106\n",
       "        ...  \n",
       "6430    8.684\n",
       "6431    8.667\n",
       "6432    8.667\n",
       "6433    8.667\n",
       "6434    8.667\n",
       "Name: Unemployment, Length: 6401, dtype: float64>"
      ]
     },
     "execution_count": 22,
     "metadata": {},
     "output_type": "execute_result"
    }
   ],
   "source": [
    "df[\"Unemployment\"].count"
   ]
  },
  {
   "cell_type": "code",
   "execution_count": 23,
   "id": "b8ad8482-a11e-4422-8733-0f6c098809ac",
   "metadata": {},
   "outputs": [],
   "source": [
    "df_original = df.copy()"
   ]
  },
  {
   "cell_type": "code",
   "execution_count": 24,
   "id": "2760367d-3ae7-48ab-98c7-940031e61649",
   "metadata": {},
   "outputs": [],
   "source": [
    "df= df[~((df[\"Unemployment\"]<(Q1U-1.5*IQR_Unemployment))|(df[\"Unemployment\"]>(Q3U+1.5*IQR_Unemployment)))]"
   ]
  },
  {
   "cell_type": "code",
   "execution_count": 25,
   "id": "7861cd2e-d5bc-4c06-9985-28567e1c83c6",
   "metadata": {},
   "outputs": [
    {
     "data": {
      "text/plain": [
       "<bound method Series.count of 0       8.106\n",
       "1       8.106\n",
       "2       8.106\n",
       "3       8.106\n",
       "4       8.106\n",
       "        ...  \n",
       "6430    8.684\n",
       "6431    8.667\n",
       "6432    8.667\n",
       "6433    8.667\n",
       "6434    8.667\n",
       "Name: Unemployment, Length: 5920, dtype: float64>"
      ]
     },
     "execution_count": 25,
     "metadata": {},
     "output_type": "execute_result"
    }
   ],
   "source": [
    "df[\"Unemployment\"].count"
   ]
  },
  {
   "cell_type": "code",
   "execution_count": 26,
   "id": "039497da-f167-4a4c-af14-c1e74d0f3e72",
   "metadata": {},
   "outputs": [
    {
     "data": {
      "image/png": "[encoded data removed]",
      "text/plain": [
       "<Figure size 500x500 with 1 Axes>"
      ]
     },
     "metadata": {},
     "output_type": "display_data"
    }
   ],
   "source": [
    "sns.displot(df[\"Unemployment\"], kde=True)\n",
    "sns.set_style(\"whitegrid\")"
   ]
  },
  {
   "cell_type": "markdown",
   "id": "7ff235e8-f555-4a66-8a15-565e05248657",
   "metadata": {},
   "source": [
    "## Obtenga las correlaciones entre los datos de corte numérico. "
   ]
  },
  {
   "cell_type": "code",
   "execution_count": 27,
   "id": "418e5ace-33ce-45c5-baa7-2dfa44c399ce",
   "metadata": {},
   "outputs": [
    {
     "data": {
      "text/html": [
       "<style type=\"text/css\">\n",
       "#T_a428e_row0_col0, #T_a428e_row1_col1, #T_a428e_row2_col2, #T_a428e_row3_col3, #T_a428e_row4_col4 {\n",
       "  background-color: #b40426;\n",
       "  color: #f1f1f1;\n",
       "}\n",
       "#T_a428e_row0_col1, #T_a428e_row1_col0, #T_a428e_row3_col2, #T_a428e_row3_col4, #T_a428e_row4_col3 {\n",
       "  background-color: #3b4cc0;\n",
       "  color: #f1f1f1;\n",
       "}\n",
       "#T_a428e_row0_col2 {\n",
       "  background-color: #3c4ec2;\n",
       "  color: #f1f1f1;\n",
       "}\n",
       "#T_a428e_row0_col3, #T_a428e_row4_col2 {\n",
       "  background-color: #3d50c3;\n",
       "  color: #f1f1f1;\n",
       "}\n",
       "#T_a428e_row0_col4 {\n",
       "  background-color: #cad8ef;\n",
       "  color: #000000;\n",
       "}\n",
       "#T_a428e_row1_col2 {\n",
       "  background-color: #4257c9;\n",
       "  color: #f1f1f1;\n",
       "}\n",
       "#T_a428e_row1_col3 {\n",
       "  background-color: #5d7ce6;\n",
       "  color: #f1f1f1;\n",
       "}\n",
       "#T_a428e_row1_col4 {\n",
       "  background-color: #5f7fe8;\n",
       "  color: #f1f1f1;\n",
       "}\n",
       "#T_a428e_row2_col0 {\n",
       "  background-color: #8badfd;\n",
       "  color: #000000;\n",
       "}\n",
       "#T_a428e_row2_col1 {\n",
       "  background-color: #90b2fe;\n",
       "  color: #000000;\n",
       "}\n",
       "#T_a428e_row2_col3, #T_a428e_row3_col1 {\n",
       "  background-color: #7396f5;\n",
       "  color: #f1f1f1;\n",
       "}\n",
       "#T_a428e_row2_col4 {\n",
       "  background-color: #779af7;\n",
       "  color: #f1f1f1;\n",
       "}\n",
       "#T_a428e_row3_col0 {\n",
       "  background-color: #5470de;\n",
       "  color: #f1f1f1;\n",
       "}\n",
       "#T_a428e_row4_col0 {\n",
       "  background-color: #d6dce4;\n",
       "  color: #000000;\n",
       "}\n",
       "#T_a428e_row4_col1 {\n",
       "  background-color: #7699f6;\n",
       "  color: #f1f1f1;\n",
       "}\n",
       "</style>\n",
       "<table id=\"T_a428e\">\n",
       "  <thead>\n",
       "    <tr>\n",
       "      <th class=\"blank level0\" >&nbsp;</th>\n",
       "      <th id=\"T_a428e_level0_col0\" class=\"col_heading level0 col0\" >Store</th>\n",
       "      <th id=\"T_a428e_level0_col1\" class=\"col_heading level0 col1\" >Weekly_Sales</th>\n",
       "      <th id=\"T_a428e_level0_col2\" class=\"col_heading level0 col2\" >Holiday_Flag</th>\n",
       "      <th id=\"T_a428e_level0_col3\" class=\"col_heading level0 col3\" >CPI</th>\n",
       "      <th id=\"T_a428e_level0_col4\" class=\"col_heading level0 col4\" >Unemployment</th>\n",
       "    </tr>\n",
       "  </thead>\n",
       "  <tbody>\n",
       "    <tr>\n",
       "      <th id=\"T_a428e_level0_row0\" class=\"row_heading level0 row0\" >Store</th>\n",
       "      <td id=\"T_a428e_row0_col0\" class=\"data row0 col0\" >1.000000</td>\n",
       "      <td id=\"T_a428e_row0_col1\" class=\"data row0 col1\" >-0.319128</td>\n",
       "      <td id=\"T_a428e_row0_col2\" class=\"data row0 col2\" >0.004353</td>\n",
       "      <td id=\"T_a428e_row0_col3\" class=\"data row0 col3\" >-0.208596</td>\n",
       "      <td id=\"T_a428e_row0_col4\" class=\"data row0 col4\" >0.309445</td>\n",
       "    </tr>\n",
       "    <tr>\n",
       "      <th id=\"T_a428e_level0_row1\" class=\"row_heading level0 row1\" >Weekly_Sales</th>\n",
       "      <td id=\"T_a428e_row1_col0\" class=\"data row1 col0\" >-0.319128</td>\n",
       "      <td id=\"T_a428e_row1_col1\" class=\"data row1 col1\" >1.000000</td>\n",
       "      <td id=\"T_a428e_row1_col2\" class=\"data row1 col2\" >0.024442</td>\n",
       "      <td id=\"T_a428e_row1_col3\" class=\"data row1 col3\" >-0.082957</td>\n",
       "      <td id=\"T_a428e_row1_col4\" class=\"data row1 col4\" >-0.073227</td>\n",
       "    </tr>\n",
       "    <tr>\n",
       "      <th id=\"T_a428e_level0_row2\" class=\"row_heading level0 row2\" >Holiday_Flag</th>\n",
       "      <td id=\"T_a428e_row2_col0\" class=\"data row2 col0\" >0.004353</td>\n",
       "      <td id=\"T_a428e_row2_col1\" class=\"data row2 col1\" >0.024442</td>\n",
       "      <td id=\"T_a428e_row2_col2\" class=\"data row2 col2\" >1.000000</td>\n",
       "      <td id=\"T_a428e_row2_col3\" class=\"data row2 col3\" >-0.000364</td>\n",
       "      <td id=\"T_a428e_row2_col4\" class=\"data row2 col4\" >0.011014</td>\n",
       "    </tr>\n",
       "    <tr>\n",
       "      <th id=\"T_a428e_level0_row3\" class=\"row_heading level0 row3\" >CPI</th>\n",
       "      <td id=\"T_a428e_row3_col0\" class=\"data row3 col0\" >-0.208596</td>\n",
       "      <td id=\"T_a428e_row3_col1\" class=\"data row3 col1\" >-0.082957</td>\n",
       "      <td id=\"T_a428e_row3_col2\" class=\"data row3 col2\" >-0.000364</td>\n",
       "      <td id=\"T_a428e_row3_col3\" class=\"data row3 col3\" >1.000000</td>\n",
       "      <td id=\"T_a428e_row3_col4\" class=\"data row3 col4\" >-0.218764</td>\n",
       "    </tr>\n",
       "    <tr>\n",
       "      <th id=\"T_a428e_level0_row4\" class=\"row_heading level0 row4\" >Unemployment</th>\n",
       "      <td id=\"T_a428e_row4_col0\" class=\"data row4 col0\" >0.309445</td>\n",
       "      <td id=\"T_a428e_row4_col1\" class=\"data row4 col1\" >-0.073227</td>\n",
       "      <td id=\"T_a428e_row4_col2\" class=\"data row4 col2\" >0.011014</td>\n",
       "      <td id=\"T_a428e_row4_col3\" class=\"data row4 col3\" >-0.218764</td>\n",
       "      <td id=\"T_a428e_row4_col4\" class=\"data row4 col4\" >1.000000</td>\n",
       "    </tr>\n",
       "  </tbody>\n",
       "</table>\n"
      ],
      "text/plain": [
       "<pandas.io.formats.style.Styler at 0x7fb1207153f0>"
      ]
     },
     "execution_count": 27,
     "metadata": {},
     "output_type": "execute_result"
    }
   ],
   "source": [
    "df.corr().style.background_gradient(cmap='coolwarm')"
   ]
  },
  {
   "cell_type": "markdown",
   "id": "9809902b-31d2-4ab8-8ec9-058e149eb411",
   "metadata": {},
   "source": [
    "en la matriz de correlación, puedemos observar una correlación negativa fuerte de -0.319 entre 'Store' y 'Weekly_Sales', lo que indica que hay una relación inversa entre el número de tienda y las ventas semanales. Cabe recalcar que correlación no implica causalidad.\n",
    "Si el valor de correlación está cerca de 0, indica una correlación débil o nula entre las dos variables en nuestra matriz de correlación, puedemos observar valores cercanos a 0 entre 'Holiday_Flag' y otras variables."
   ]
  },
  {
   "cell_type": "markdown",
   "id": "487ac104-1b5f-4d3c-b83f-36248af0c068",
   "metadata": {},
   "source": [
    "## Comente que variable escogerán como variable dependiente y que variables introducirán a su modelo."
   ]
  },
  {
   "cell_type": "markdown",
   "id": "cc2d7301-e6a8-4ccc-8f07-3cf0739a2df8",
   "metadata": {},
   "source": [
    "En este caso la variable dependiente sera las ventas semanales ya que estas dependeran del tipo de tienda y su comportamiento a traves del tiempo, nuestras variables explicativas serian las tiendas, las fechas si es un dia festivo entre otros."
   ]
  },
  {
   "cell_type": "markdown",
   "id": "6c4af4d2-d21f-4cb7-8519-89763cd39906",
   "metadata": {},
   "source": [
    "## Indique que tipo de modelación realizarán y porqué. "
   ]
  },
  {
   "cell_type": "code",
   "execution_count": 28,
   "id": "0d66b35e-1bc1-4b3b-a57d-382afb0a4fc9",
   "metadata": {},
   "outputs": [],
   "source": [
    "df=df.set_index(['Date', 'Store'])"
   ]
  },
  {
   "cell_type": "code",
   "execution_count": 29,
   "id": "d8cd6a7d-7cbd-4424-84eb-5355637127ee",
   "metadata": {},
   "outputs": [],
   "source": [
    "Date = df.index.get_level_values('Date').to_list()\n",
    "df['Date'] = pd.Categorical(Date)"
   ]
  },
  {
   "cell_type": "code",
   "execution_count": 44,
   "id": "5d72a789-5a68-4858-b8de-9acdbccd1508",
   "metadata": {},
   "outputs": [
    {
     "name": "stdout",
     "output_type": "stream",
     "text": [
      "Requirement already satisfied: linearmodels in /Users/macbookpro/anaconda3/lib/python3.10/site-packages (4.31)\n",
      "Requirement already satisfied: Cython>=0.29.21 in /Users/macbookpro/anaconda3/lib/python3.10/site-packages (from linearmodels) (0.29.34)\n",
      "Requirement already satisfied: formulaic>=0.3.2 in /Users/macbookpro/anaconda3/lib/python3.10/site-packages (from linearmodels) (0.6.1)\n",
      "Requirement already satisfied: numpy>=1.16 in /Users/macbookpro/anaconda3/lib/python3.10/site-packages (from linearmodels) (1.23.5)\n",
      "Requirement already satisfied: setuptools-scm[toml]>=7.0.0 in /Users/macbookpro/anaconda3/lib/python3.10/site-packages (from linearmodels) (7.1.0)\n",
      "Requirement already satisfied: property-cached>=1.6.3 in /Users/macbookpro/anaconda3/lib/python3.10/site-packages (from linearmodels) (1.6.4)\n",
      "Requirement already satisfied: statsmodels>=0.11 in /Users/macbookpro/anaconda3/lib/python3.10/site-packages (from linearmodels) (0.14.0)\n",
      "Requirement already satisfied: scipy>=1.2 in /Users/macbookpro/anaconda3/lib/python3.10/site-packages (from linearmodels) (1.10.0)\n",
      "Requirement already satisfied: pyhdfe>=0.1 in /Users/macbookpro/anaconda3/lib/python3.10/site-packages (from linearmodels) (0.1.2)\n",
      "Requirement already satisfied: mypy-extensions>=0.4 in /Users/macbookpro/anaconda3/lib/python3.10/site-packages (from linearmodels) (0.4.3)\n",
      "Requirement already satisfied: pandas>=0.24 in /Users/macbookpro/anaconda3/lib/python3.10/site-packages (from linearmodels) (1.5.3)\n",
      "Requirement already satisfied: astor>=0.8 in /Users/macbookpro/anaconda3/lib/python3.10/site-packages (from formulaic>=0.3.2->linearmodels) (0.8.1)\n",
      "Requirement already satisfied: interface-meta>=1.2.0 in /Users/macbookpro/anaconda3/lib/python3.10/site-packages (from formulaic>=0.3.2->linearmodels) (1.3.0)\n",
      "Requirement already satisfied: wrapt>=1.0 in /Users/macbookpro/anaconda3/lib/python3.10/site-packages (from formulaic>=0.3.2->linearmodels) (1.14.1)\n",
      "Requirement already satisfied: typing-extensions>=4.2.0 in /Users/macbookpro/anaconda3/lib/python3.10/site-packages (from formulaic>=0.3.2->linearmodels) (4.4.0)\n",
      "Requirement already satisfied: python-dateutil>=2.8.1 in /Users/macbookpro/anaconda3/lib/python3.10/site-packages (from pandas>=0.24->linearmodels) (2.8.2)\n",
      "Requirement already satisfied: pytz>=2020.1 in /Users/macbookpro/anaconda3/lib/python3.10/site-packages (from pandas>=0.24->linearmodels) (2022.7)\n",
      "Requirement already satisfied: tomli>=1.0.0 in /Users/macbookpro/anaconda3/lib/python3.10/site-packages (from setuptools-scm[toml]>=7.0.0->linearmodels) (2.0.1)\n",
      "Requirement already satisfied: packaging>=20.0 in /Users/macbookpro/anaconda3/lib/python3.10/site-packages (from setuptools-scm[toml]>=7.0.0->linearmodels) (22.0)\n",
      "Requirement already satisfied: setuptools in /Users/macbookpro/anaconda3/lib/python3.10/site-packages (from setuptools-scm[toml]>=7.0.0->linearmodels) (65.6.3)\n",
      "Requirement already satisfied: patsy>=0.5.2 in /Users/macbookpro/anaconda3/lib/python3.10/site-packages (from statsmodels>=0.11->linearmodels) (0.5.3)\n",
      "Requirement already satisfied: six in /Users/macbookpro/anaconda3/lib/python3.10/site-packages (from patsy>=0.5.2->statsmodels>=0.11->linearmodels) (1.16.0)\n",
      "Note: you may need to restart the kernel to use updated packages.\n"
     ]
    }
   ],
   "source": [
    "pip install linearmodels\n"
   ]
  },
  {
   "cell_type": "code",
   "execution_count": 30,
   "id": "1e5a845e-a989-46cb-b50d-48ecf35d9f20",
   "metadata": {},
   "outputs": [],
   "source": [
    "from linearmodels import PooledOLS\n",
    "import statsmodels.api as sm"
   ]
  },
  {
   "cell_type": "markdown",
   "id": "2fec19b4-e756-40e1-83d2-901ebf4864f9",
   "metadata": {},
   "source": [
    "## Pooled OLS"
   ]
  },
  {
   "cell_type": "markdown",
   "id": "869ec907-4572-4c87-a20c-1070ab96a304",
   "metadata": {},
   "source": [
    "tomaremos esta como base y posteriormente realizaremos el test de Hausman para determinar cual de los dos modelos subsecuentes es el mejor."
   ]
  },
  {
   "cell_type": "code",
   "execution_count": 31,
   "id": "19e962da-7f52-48f7-873c-67cd6b3c6d45",
   "metadata": {},
   "outputs": [],
   "source": [
    "X = sm.tools.tools.add_constant(df.Weekly_Sales)\n",
    "y = df.Unemployment"
   ]
  },
  {
   "cell_type": "code",
   "execution_count": 32,
   "id": "53b18733-d718-473d-8c5e-55eee388b56d",
   "metadata": {},
   "outputs": [],
   "source": [
    "modelo1 = PooledOLS(y, X)\n",
    "resultados_pooled_OLS = modelo1.fit(cov_type='clustered', cluster_entity=True)"
   ]
  },
  {
   "cell_type": "code",
   "execution_count": 33,
   "id": "3958d643-9341-44d3-b2d5-840025dac8f9",
   "metadata": {},
   "outputs": [],
   "source": [
    "predicciones_pooled_OLS = resultados_pooled_OLS.predict().fitted_values\n",
    "residuos_pooled_OLS = resultados_pooled_OLS.resids"
   ]
  },
  {
   "cell_type": "code",
   "execution_count": 34,
   "id": "65314522-d5c2-4821-830d-873df2b252a0",
   "metadata": {},
   "outputs": [
    {
     "data": {
      "text/html": [
       "<table class=\"simpletable\">\n",
       "<caption>PooledOLS Estimation Summary</caption>\n",
       "<tr>\n",
       "  <th>Dep. Variable:</th>      <td>Unemployment</td>   <th>  R-squared:         </th>    <td>0.0054</td>  \n",
       "</tr>\n",
       "<tr>\n",
       "  <th>Estimator:</th>            <td>PooledOLS</td>    <th>  R-squared (Between):</th>   <td>-0.0054</td> \n",
       "</tr>\n",
       "<tr>\n",
       "  <th>No. Observations:</th>       <td>5920</td>       <th>  R-squared (Within):</th>    <td>0.0061</td>  \n",
       "</tr>\n",
       "<tr>\n",
       "  <th>Date:</th>             <td>Mon, May 22 2023</td> <th>  R-squared (Overall):</th>   <td>0.0054</td>  \n",
       "</tr>\n",
       "<tr>\n",
       "  <th>Time:</th>                 <td>23:23:48</td>     <th>  Log-likelihood     </th>    <td>-9672.2</td> \n",
       "</tr>\n",
       "<tr>\n",
       "  <th>Cov. Estimator:</th>       <td>Clustered</td>    <th>                     </th>       <td></td>     \n",
       "</tr>\n",
       "<tr>\n",
       "  <th></th>                          <td></td>         <th>  F-statistic:       </th>    <td>31.905</td>  \n",
       "</tr>\n",
       "<tr>\n",
       "  <th>Entities:</th>                <td>143</td>       <th>  P-value            </th>    <td>0.0000</td>  \n",
       "</tr>\n",
       "<tr>\n",
       "  <th>Avg Obs:</th>               <td>41.399</td>      <th>  Distribution:      </th>   <td>F(1,5918)</td>\n",
       "</tr>\n",
       "<tr>\n",
       "  <th>Min Obs:</th>               <td>33.000</td>      <th>                     </th>       <td></td>     \n",
       "</tr>\n",
       "<tr>\n",
       "  <th>Max Obs:</th>               <td>42.000</td>      <th>  F-statistic (robust):</th>  <td>143.12</td>  \n",
       "</tr>\n",
       "<tr>\n",
       "  <th></th>                          <td></td>         <th>  P-value            </th>    <td>0.0000</td>  \n",
       "</tr>\n",
       "<tr>\n",
       "  <th>Time periods:</th>            <td>45</td>        <th>  Distribution:      </th>   <td>F(1,5918)</td>\n",
       "</tr>\n",
       "<tr>\n",
       "  <th>Avg Obs:</th>               <td>131.56</td>      <th>                     </th>       <td></td>     \n",
       "</tr>\n",
       "<tr>\n",
       "  <th>Min Obs:</th>               <td>17.000</td>      <th>                     </th>       <td></td>     \n",
       "</tr>\n",
       "<tr>\n",
       "  <th>Max Obs:</th>               <td>143.00</td>      <th>                     </th>       <td></td>     \n",
       "</tr>\n",
       "<tr>\n",
       "  <th></th>                          <td></td>         <th>                     </th>       <td></td>     \n",
       "</tr>\n",
       "</table>\n",
       "<table class=\"simpletable\">\n",
       "<caption>Parameter Estimates</caption>\n",
       "<tr>\n",
       "        <td></td>       <th>Parameter</th> <th>Std. Err.</th> <th>T-stat</th>  <th>P-value</th> <th>Lower CI</th>   <th>Upper CI</th> \n",
       "</tr>\n",
       "<tr>\n",
       "  <th>const</th>         <td>7.8938</td>    <td>0.0277</td>   <td>284.56</td>  <td>0.0000</td>   <td>7.8394</td>     <td>7.9482</td>  \n",
       "</tr>\n",
       "<tr>\n",
       "  <th>Weekly_Sales</th> <td>-1.65e-07</td> <td>1.379e-08</td> <td>-11.963</td> <td>0.0000</td>  <td>-1.92e-07</td> <td>-1.379e-07</td>\n",
       "</tr>\n",
       "</table><br/>id: 0x7fb119fb69b0"
      ],
      "text/plain": [
       "                          PooledOLS Estimation Summary                          \n",
       "================================================================================\n",
       "Dep. Variable:           Unemployment   R-squared:                        0.0054\n",
       "Estimator:                  PooledOLS   R-squared (Between):             -0.0054\n",
       "No. Observations:                5920   R-squared (Within):               0.0061\n",
       "Date:                Mon, May 22 2023   R-squared (Overall):              0.0054\n",
       "Time:                        23:23:48   Log-likelihood                   -9672.2\n",
       "Cov. Estimator:             Clustered                                           \n",
       "                                        F-statistic:                      31.905\n",
       "Entities:                         143   P-value                           0.0000\n",
       "Avg Obs:                       41.399   Distribution:                  F(1,5918)\n",
       "Min Obs:                       33.000                                           \n",
       "Max Obs:                       42.000   F-statistic (robust):             143.12\n",
       "                                        P-value                           0.0000\n",
       "Time periods:                      45   Distribution:                  F(1,5918)\n",
       "Avg Obs:                       131.56                                           \n",
       "Min Obs:                       17.000                                           \n",
       "Max Obs:                       143.00                                           \n",
       "                                                                                \n",
       "                              Parameter Estimates                               \n",
       "================================================================================\n",
       "              Parameter  Std. Err.     T-stat    P-value    Lower CI    Upper CI\n",
       "--------------------------------------------------------------------------------\n",
       "const            7.8938     0.0277     284.56     0.0000      7.8394      7.9482\n",
       "Weekly_Sales  -1.65e-07  1.379e-08    -11.963     0.0000   -1.92e-07  -1.379e-07\n",
       "================================================================================\n",
       "PanelResults, id: 0x7fb119fb69b0"
      ]
     },
     "execution_count": 34,
     "metadata": {},
     "output_type": "execute_result"
    }
   ],
   "source": [
    "resultados_pooled_OLS"
   ]
  },
  {
   "cell_type": "markdown",
   "id": "3f56a352-4447-455f-8105-dc6c7282347b",
   "metadata": {},
   "source": [
    "Un R-cuadrado negativo sugiere que el modelo no proporciona una buena representación de los datos y no tiene poder predictivo. Esto implica que las variables independientes incluidas en el modelo no están relacionadas o no son adecuadas para explicar la variabilidad en la variable dependiente."
   ]
  },
  {
   "cell_type": "markdown",
   "id": "2236eeaf-124c-4dcf-b437-300884592ca0",
   "metadata": {},
   "source": [
    "Una prueba F con un valor de 31.90 indica que la combinación de las variables independientes en el modelo es estadísticamente significativa en su capacidad para explicar la variabilidad en la variable dependiente. En otras palabras, hay evidencia para afirmar que al menos una de las variables independientes tiene un efecto significativo en la variable dependiente."
   ]
  },
  {
   "cell_type": "markdown",
   "id": "923aa879-6148-4bf1-bd38-dfaa26d634e1",
   "metadata": {},
   "source": [
    "## Verificación de los supuestos de la Regresión Pooled OLS"
   ]
  },
  {
   "cell_type": "markdown",
   "id": "6e2421b5-6d04-4760-86f0-835a7724ae25",
   "metadata": {},
   "source": [
    "## Homocedasticidad"
   ]
  },
  {
   "cell_type": "code",
   "execution_count": 35,
   "id": "41ac4ec0-5312-4d49-a95b-c223cb4c0c89",
   "metadata": {},
   "outputs": [
    {
     "data": {
      "image/png": "[encoded data removed]",
      "text/plain": [
       "<Figure size 640x480 with 1 Axes>"
      ]
     },
     "metadata": {},
     "output_type": "display_data"
    }
   ],
   "source": [
    "fig, ax = plt.subplots()\n",
    "ax.scatter(predicciones_pooled_OLS, residuos_pooled_OLS)\n",
    "ax.axhline(0, color = 'r', ls = '--')\n",
    "ax.set_xlabel('Predicciones', fontsize = 15)\n",
    "ax.set_ylabel('Residuos', fontsize = 15)\n",
    "ax.set_title('Evaluación de homocedasticidad', fontsize = 18)\n",
    "plt.show()"
   ]
  },
  {
   "cell_type": "code",
   "execution_count": 38,
   "id": "353b5844-1a43-4805-8eb8-9a55eeb08326",
   "metadata": {},
   "outputs": [],
   "source": [
    "from statsmodels.stats.diagnostic import het_breuschpagan"
   ]
  },
  {
   "cell_type": "code",
   "execution_count": 39,
   "id": "2520bb88-cf2f-4083-bf40-30f0630a123f",
   "metadata": {},
   "outputs": [],
   "source": [
    "pooled_OLS_df = pd.concat([df, residuos_pooled_OLS], axis=1)\n",
    "pooled_OLS_df = pooled_OLS_df.drop(['Date'], axis = 1).fillna(0)\n",
    "X_ = sm.tools.tools.add_constant(df['Weekly_Sales']).fillna(0)"
   ]
  },
  {
   "cell_type": "code",
   "execution_count": 40,
   "id": "cd28d774-f0ab-417e-8eea-f650af910125",
   "metadata": {},
   "outputs": [
    {
     "data": {
      "text/html": [
       "<div>\n",
       "<style scoped>\n",
       "    .dataframe tbody tr th:only-of-type {\n",
       "        vertical-align: middle;\n",
       "    }\n",
       "\n",
       "    .dataframe tbody tr th {\n",
       "        vertical-align: top;\n",
       "    }\n",
       "\n",
       "    .dataframe thead th {\n",
       "        text-align: right;\n",
       "    }\n",
       "</style>\n",
       "<table border=\"1\" class=\"dataframe\">\n",
       "  <thead>\n",
       "    <tr style=\"text-align: right;\">\n",
       "      <th></th>\n",
       "      <th></th>\n",
       "      <th>Weekly_Sales</th>\n",
       "      <th>Holiday_Flag</th>\n",
       "      <th>CPI</th>\n",
       "      <th>Unemployment</th>\n",
       "      <th>residual</th>\n",
       "    </tr>\n",
       "    <tr>\n",
       "      <th>Date</th>\n",
       "      <th>Store</th>\n",
       "      <th></th>\n",
       "      <th></th>\n",
       "      <th></th>\n",
       "      <th></th>\n",
       "      <th></th>\n",
       "    </tr>\n",
       "  </thead>\n",
       "  <tbody>\n",
       "    <tr>\n",
       "      <th>05-02-2010</th>\n",
       "      <th>1</th>\n",
       "      <td>1643690.90</td>\n",
       "      <td>0</td>\n",
       "      <td>211.096358</td>\n",
       "      <td>8.106</td>\n",
       "      <td>0.483340</td>\n",
       "    </tr>\n",
       "    <tr>\n",
       "      <th>12-02-2010</th>\n",
       "      <th>1</th>\n",
       "      <td>1641957.44</td>\n",
       "      <td>1</td>\n",
       "      <td>211.242170</td>\n",
       "      <td>8.106</td>\n",
       "      <td>0.483054</td>\n",
       "    </tr>\n",
       "    <tr>\n",
       "      <th>19-02-2010</th>\n",
       "      <th>1</th>\n",
       "      <td>1611968.17</td>\n",
       "      <td>0</td>\n",
       "      <td>211.289143</td>\n",
       "      <td>8.106</td>\n",
       "      <td>0.478107</td>\n",
       "    </tr>\n",
       "    <tr>\n",
       "      <th>26-02-2010</th>\n",
       "      <th>1</th>\n",
       "      <td>1409727.59</td>\n",
       "      <td>0</td>\n",
       "      <td>211.319643</td>\n",
       "      <td>8.106</td>\n",
       "      <td>0.444745</td>\n",
       "    </tr>\n",
       "    <tr>\n",
       "      <th>05-03-2010</th>\n",
       "      <th>1</th>\n",
       "      <td>1554806.68</td>\n",
       "      <td>0</td>\n",
       "      <td>211.350143</td>\n",
       "      <td>8.106</td>\n",
       "      <td>0.468678</td>\n",
       "    </tr>\n",
       "    <tr>\n",
       "      <th>...</th>\n",
       "      <th>...</th>\n",
       "      <td>...</td>\n",
       "      <td>...</td>\n",
       "      <td>...</td>\n",
       "      <td>...</td>\n",
       "      <td>...</td>\n",
       "    </tr>\n",
       "    <tr>\n",
       "      <th>28-09-2012</th>\n",
       "      <th>45</th>\n",
       "      <td>713173.95</td>\n",
       "      <td>0</td>\n",
       "      <td>192.013558</td>\n",
       "      <td>8.684</td>\n",
       "      <td>0.907842</td>\n",
       "    </tr>\n",
       "    <tr>\n",
       "      <th>05-10-2012</th>\n",
       "      <th>45</th>\n",
       "      <td>733455.07</td>\n",
       "      <td>0</td>\n",
       "      <td>192.170412</td>\n",
       "      <td>8.667</td>\n",
       "      <td>0.894188</td>\n",
       "    </tr>\n",
       "    <tr>\n",
       "      <th>12-10-2012</th>\n",
       "      <th>45</th>\n",
       "      <td>734464.36</td>\n",
       "      <td>0</td>\n",
       "      <td>192.327265</td>\n",
       "      <td>8.667</td>\n",
       "      <td>0.894354</td>\n",
       "    </tr>\n",
       "    <tr>\n",
       "      <th>19-10-2012</th>\n",
       "      <th>45</th>\n",
       "      <td>718125.53</td>\n",
       "      <td>0</td>\n",
       "      <td>192.330854</td>\n",
       "      <td>8.667</td>\n",
       "      <td>0.891659</td>\n",
       "    </tr>\n",
       "    <tr>\n",
       "      <th>26-10-2012</th>\n",
       "      <th>45</th>\n",
       "      <td>760281.43</td>\n",
       "      <td>0</td>\n",
       "      <td>192.308899</td>\n",
       "      <td>8.667</td>\n",
       "      <td>0.898613</td>\n",
       "    </tr>\n",
       "  </tbody>\n",
       "</table>\n",
       "<p>5920 rows × 5 columns</p>\n",
       "</div>"
      ],
      "text/plain": [
       "                  Weekly_Sales  Holiday_Flag         CPI  Unemployment  \\\n",
       "Date       Store                                                         \n",
       "05-02-2010 1        1643690.90             0  211.096358         8.106   \n",
       "12-02-2010 1        1641957.44             1  211.242170         8.106   \n",
       "19-02-2010 1        1611968.17             0  211.289143         8.106   \n",
       "26-02-2010 1        1409727.59             0  211.319643         8.106   \n",
       "05-03-2010 1        1554806.68             0  211.350143         8.106   \n",
       "...                        ...           ...         ...           ...   \n",
       "28-09-2012 45        713173.95             0  192.013558         8.684   \n",
       "05-10-2012 45        733455.07             0  192.170412         8.667   \n",
       "12-10-2012 45        734464.36             0  192.327265         8.667   \n",
       "19-10-2012 45        718125.53             0  192.330854         8.667   \n",
       "26-10-2012 45        760281.43             0  192.308899         8.667   \n",
       "\n",
       "                  residual  \n",
       "Date       Store            \n",
       "05-02-2010 1      0.483340  \n",
       "12-02-2010 1      0.483054  \n",
       "19-02-2010 1      0.478107  \n",
       "26-02-2010 1      0.444745  \n",
       "05-03-2010 1      0.468678  \n",
       "...                    ...  \n",
       "28-09-2012 45     0.907842  \n",
       "05-10-2012 45     0.894188  \n",
       "12-10-2012 45     0.894354  \n",
       "19-10-2012 45     0.891659  \n",
       "26-10-2012 45     0.898613  \n",
       "\n",
       "[5920 rows x 5 columns]"
      ]
     },
     "execution_count": 40,
     "metadata": {},
     "output_type": "execute_result"
    }
   ],
   "source": [
    "pooled_OLS_df"
   ]
  },
  {
   "cell_type": "code",
   "execution_count": 41,
   "id": "abfd0cac-b753-4c6e-990e-e7370826a657",
   "metadata": {},
   "outputs": [
    {
     "name": "stdout",
     "output_type": "stream",
     "text": [
      "{'LM-Stat': 54.28100692147403, 'LM p-val': 1.737733446637854e-13, 'F-Stat': 54.764812180798025, 'F p-val': 1.547873403698911e-13}\n"
     ]
    }
   ],
   "source": [
    "breusch_pagan = het_breuschpagan(pooled_OLS_df.residual, X_)\n",
    "labels = ['LM-Stat', 'LM p-val', 'F-Stat', 'F p-val'] \n",
    "print(dict(zip(labels, breusch_pagan)))"
   ]
  },
  {
   "cell_type": "markdown",
   "id": "fc74689c-37ed-42a8-9e2f-fb34625f24bd",
   "metadata": {},
   "source": [
    "El p-value es una medida de la significancia estadística de la prueba. En este caso, el p-valor obtenido es 1.737733446637854e-13, que es muy pequeño esto indica que hay evidencia suficiente para rechazar la hipótesis nula de no heteroscedasticidad en favor de la hipótesis alternativa de heteroscedasticidad.\n",
    "\n",
    "\n",
    "Los resultados indican que existe evidencia estadística significativa para afirmar que hay heteroscedasticidad en los errores del modelo."
   ]
  },
  {
   "cell_type": "markdown",
   "id": "d08f85a9-a3d7-40b6-ad91-f74838f182e1",
   "metadata": {},
   "source": [
    "## No- autocorrelación"
   ]
  },
  {
   "cell_type": "code",
   "execution_count": 42,
   "id": "6cca3e67-77be-4bc8-8cd2-4e6602c6b462",
   "metadata": {},
   "outputs": [],
   "source": [
    "from statsmodels.stats.stattools import durbin_watson"
   ]
  },
  {
   "cell_type": "code",
   "execution_count": 43,
   "id": "054dd6de-3749-4d80-bb5d-d424662dda10",
   "metadata": {},
   "outputs": [
    {
     "name": "stdout",
     "output_type": "stream",
     "text": [
      "0.0309485714462835\n"
     ]
    }
   ],
   "source": [
    "durbin_watson = durbin_watson(pooled_OLS_df.residual) \n",
    "print(durbin_watson)"
   ]
  },
  {
   "cell_type": "markdown",
   "id": "97a58c9c-a7cc-4208-815a-97b9899f4d5a",
   "metadata": {},
   "source": [
    "El valor obtenido de 0.0309485714462835 indica una fuerte evidencia de autocorrelación positiva en los residuos del modelo. "
   ]
  },
  {
   "cell_type": "markdown",
   "id": "247ef0b5-16ac-4a21-84be-528e842264a6",
   "metadata": {},
   "source": [
    "## Modelo de Efectos Fijos \"fixed effects\""
   ]
  },
  {
   "cell_type": "code",
   "execution_count": 44,
   "id": "bdad1b4c-f506-4cf3-b0d4-7b22576f9fc1",
   "metadata": {},
   "outputs": [],
   "source": [
    "from linearmodels import PanelOLS"
   ]
  },
  {
   "cell_type": "code",
   "execution_count": 45,
   "id": "7e35cefe-4f5c-4de9-a53e-514a97bc55a1",
   "metadata": {},
   "outputs": [],
   "source": [
    "modelo_fe = PanelOLS(y, X, entity_effects = True)\n",
    "resultados_fe = modelo_fe.fit()"
   ]
  },
  {
   "cell_type": "code",
   "execution_count": 46,
   "id": "3f04a304-6941-49f7-adf5-8aed343fbccf",
   "metadata": {},
   "outputs": [
    {
     "data": {
      "text/html": [
       "<table class=\"simpletable\">\n",
       "<caption>PanelOLS Estimation Summary</caption>\n",
       "<tr>\n",
       "  <th>Dep. Variable:</th>      <td>Unemployment</td>   <th>  R-squared:         </th>    <td>0.0061</td>  \n",
       "</tr>\n",
       "<tr>\n",
       "  <th>Estimator:</th>            <td>PanelOLS</td>     <th>  R-squared (Between):</th>   <td>-0.0057</td> \n",
       "</tr>\n",
       "<tr>\n",
       "  <th>No. Observations:</th>       <td>5920</td>       <th>  R-squared (Within):</th>    <td>0.0061</td>  \n",
       "</tr>\n",
       "<tr>\n",
       "  <th>Date:</th>             <td>Mon, May 22 2023</td> <th>  R-squared (Overall):</th>   <td>0.0054</td>  \n",
       "</tr>\n",
       "<tr>\n",
       "  <th>Time:</th>                 <td>23:24:22</td>     <th>  Log-likelihood     </th>    <td>-9464.2</td> \n",
       "</tr>\n",
       "<tr>\n",
       "  <th>Cov. Estimator:</th>      <td>Unadjusted</td>    <th>                     </th>       <td></td>     \n",
       "</tr>\n",
       "<tr>\n",
       "  <th></th>                          <td></td>         <th>  F-statistic:       </th>    <td>35.398</td>  \n",
       "</tr>\n",
       "<tr>\n",
       "  <th>Entities:</th>                <td>143</td>       <th>  P-value            </th>    <td>0.0000</td>  \n",
       "</tr>\n",
       "<tr>\n",
       "  <th>Avg Obs:</th>               <td>41.399</td>      <th>  Distribution:      </th>   <td>F(1,5776)</td>\n",
       "</tr>\n",
       "<tr>\n",
       "  <th>Min Obs:</th>               <td>33.000</td>      <th>                     </th>       <td></td>     \n",
       "</tr>\n",
       "<tr>\n",
       "  <th>Max Obs:</th>               <td>42.000</td>      <th>  F-statistic (robust):</th>  <td>35.398</td>  \n",
       "</tr>\n",
       "<tr>\n",
       "  <th></th>                          <td></td>         <th>  P-value            </th>    <td>0.0000</td>  \n",
       "</tr>\n",
       "<tr>\n",
       "  <th>Time periods:</th>            <td>45</td>        <th>  Distribution:      </th>   <td>F(1,5776)</td>\n",
       "</tr>\n",
       "<tr>\n",
       "  <th>Avg Obs:</th>               <td>131.56</td>      <th>                     </th>       <td></td>     \n",
       "</tr>\n",
       "<tr>\n",
       "  <th>Min Obs:</th>               <td>17.000</td>      <th>                     </th>       <td></td>     \n",
       "</tr>\n",
       "<tr>\n",
       "  <th>Max Obs:</th>               <td>143.00</td>      <th>                     </th>       <td></td>     \n",
       "</tr>\n",
       "<tr>\n",
       "  <th></th>                          <td></td>         <th>                     </th>       <td></td>     \n",
       "</tr>\n",
       "</table>\n",
       "<table class=\"simpletable\">\n",
       "<caption>Parameter Estimates</caption>\n",
       "<tr>\n",
       "        <td></td>        <th>Parameter</th> <th>Std. Err.</th> <th>T-stat</th>  <th>P-value</th>  <th>Lower CI</th>   <th>Upper CI</th> \n",
       "</tr>\n",
       "<tr>\n",
       "  <th>const</th>          <td>7.9007</td>    <td>0.0339</td>   <td>233.33</td>  <td>0.0000</td>    <td>7.8343</td>     <td>7.9671</td>  \n",
       "</tr>\n",
       "<tr>\n",
       "  <th>Weekly_Sales</th> <td>-1.716e-07</td> <td>2.884e-08</td> <td>-5.9497</td> <td>0.0000</td>  <td>-2.282e-07</td> <td>-1.151e-07</td>\n",
       "</tr>\n",
       "</table><br/><br/>F-test for Poolability: 2.9619<br/>P-value: 0.0000<br/>Distribution: F(142,5776)<br/><br/>Included effects: Entity<br/>id: 0x7fb0e8560520"
      ],
      "text/plain": [
       "                          PanelOLS Estimation Summary                           \n",
       "================================================================================\n",
       "Dep. Variable:           Unemployment   R-squared:                        0.0061\n",
       "Estimator:                   PanelOLS   R-squared (Between):             -0.0057\n",
       "No. Observations:                5920   R-squared (Within):               0.0061\n",
       "Date:                Mon, May 22 2023   R-squared (Overall):              0.0054\n",
       "Time:                        23:24:22   Log-likelihood                   -9464.2\n",
       "Cov. Estimator:            Unadjusted                                           \n",
       "                                        F-statistic:                      35.398\n",
       "Entities:                         143   P-value                           0.0000\n",
       "Avg Obs:                       41.399   Distribution:                  F(1,5776)\n",
       "Min Obs:                       33.000                                           \n",
       "Max Obs:                       42.000   F-statistic (robust):             35.398\n",
       "                                        P-value                           0.0000\n",
       "Time periods:                      45   Distribution:                  F(1,5776)\n",
       "Avg Obs:                       131.56                                           \n",
       "Min Obs:                       17.000                                           \n",
       "Max Obs:                       143.00                                           \n",
       "                                                                                \n",
       "                              Parameter Estimates                               \n",
       "================================================================================\n",
       "              Parameter  Std. Err.     T-stat    P-value    Lower CI    Upper CI\n",
       "--------------------------------------------------------------------------------\n",
       "const            7.9007     0.0339     233.33     0.0000      7.8343      7.9671\n",
       "Weekly_Sales -1.716e-07  2.884e-08    -5.9497     0.0000  -2.282e-07  -1.151e-07\n",
       "================================================================================\n",
       "\n",
       "F-test for Poolability: 2.9619\n",
       "P-value: 0.0000\n",
       "Distribution: F(142,5776)\n",
       "\n",
       "Included effects: Entity\n",
       "PanelEffectsResults, id: 0x7fb0e8560520"
      ]
     },
     "execution_count": 46,
     "metadata": {},
     "output_type": "execute_result"
    }
   ],
   "source": [
    "resultados_fe"
   ]
  },
  {
   "cell_type": "markdown",
   "id": "0fd88bf5-34c6-4b43-b30f-25ce1db527d9",
   "metadata": {},
   "source": [
    "## Modelo de Efectos Aleatorios \"random effects\""
   ]
  },
  {
   "cell_type": "code",
   "execution_count": 47,
   "id": "652bf34a-b7af-4725-8a4d-90a91aae88b5",
   "metadata": {},
   "outputs": [],
   "source": [
    "from linearmodels import RandomEffects"
   ]
  },
  {
   "cell_type": "code",
   "execution_count": 48,
   "id": "22b6fad0-8d10-4ae1-80a1-f74a80adea4c",
   "metadata": {},
   "outputs": [],
   "source": [
    "modelo_re = RandomEffects(y, X)\n",
    "resultados_re = modelo_re.fit()"
   ]
  },
  {
   "cell_type": "code",
   "execution_count": 49,
   "id": "dec45ba5-a664-448d-b5df-f3c25bc1175f",
   "metadata": {},
   "outputs": [
    {
     "data": {
      "text/html": [
       "<table class=\"simpletable\">\n",
       "<caption>RandomEffects Estimation Summary</caption>\n",
       "<tr>\n",
       "  <th>Dep. Variable:</th>      <td>Unemployment</td>   <th>  R-squared:         </th>    <td>0.0040</td>  \n",
       "</tr>\n",
       "<tr>\n",
       "  <th>Estimator:</th>          <td>RandomEffects</td>  <th>  R-squared (Between):</th>   <td>-0.0056</td> \n",
       "</tr>\n",
       "<tr>\n",
       "  <th>No. Observations:</th>       <td>5920</td>       <th>  R-squared (Within):</th>    <td>0.0061</td>  \n",
       "</tr>\n",
       "<tr>\n",
       "  <th>Date:</th>             <td>Mon, May 22 2023</td> <th>  R-squared (Overall):</th>   <td>0.0054</td>  \n",
       "</tr>\n",
       "<tr>\n",
       "  <th>Time:</th>                 <td>23:24:27</td>     <th>  Log-likelihood     </th>    <td>-9535.9</td> \n",
       "</tr>\n",
       "<tr>\n",
       "  <th>Cov. Estimator:</th>      <td>Unadjusted</td>    <th>                     </th>       <td></td>     \n",
       "</tr>\n",
       "<tr>\n",
       "  <th></th>                          <td></td>         <th>  F-statistic:       </th>    <td>23.796</td>  \n",
       "</tr>\n",
       "<tr>\n",
       "  <th>Entities:</th>                <td>143</td>       <th>  P-value            </th>    <td>0.0000</td>  \n",
       "</tr>\n",
       "<tr>\n",
       "  <th>Avg Obs:</th>               <td>41.399</td>      <th>  Distribution:      </th>   <td>F(1,5918)</td>\n",
       "</tr>\n",
       "<tr>\n",
       "  <th>Min Obs:</th>               <td>33.000</td>      <th>                     </th>       <td></td>     \n",
       "</tr>\n",
       "<tr>\n",
       "  <th>Max Obs:</th>               <td>42.000</td>      <th>  F-statistic (robust):</th>  <td>34.651</td>  \n",
       "</tr>\n",
       "<tr>\n",
       "  <th></th>                          <td></td>         <th>  P-value            </th>    <td>0.0000</td>  \n",
       "</tr>\n",
       "<tr>\n",
       "  <th>Time periods:</th>            <td>45</td>        <th>  Distribution:      </th>   <td>F(1,5918)</td>\n",
       "</tr>\n",
       "<tr>\n",
       "  <th>Avg Obs:</th>               <td>131.56</td>      <th>                     </th>       <td></td>     \n",
       "</tr>\n",
       "<tr>\n",
       "  <th>Min Obs:</th>               <td>17.000</td>      <th>                     </th>       <td></td>     \n",
       "</tr>\n",
       "<tr>\n",
       "  <th>Max Obs:</th>               <td>143.00</td>      <th>                     </th>       <td></td>     \n",
       "</tr>\n",
       "<tr>\n",
       "  <th></th>                          <td></td>         <th>                     </th>       <td></td>     \n",
       "</tr>\n",
       "</table>\n",
       "<table class=\"simpletable\">\n",
       "<caption>Parameter Estimates</caption>\n",
       "<tr>\n",
       "        <td></td>        <th>Parameter</th> <th>Std. Err.</th> <th>T-stat</th>  <th>P-value</th>  <th>Lower CI</th>   <th>Upper CI</th> \n",
       "</tr>\n",
       "<tr>\n",
       "  <th>const</th>          <td>7.8964</td>    <td>0.0404</td>   <td>195.37</td>  <td>0.0000</td>    <td>7.8172</td>     <td>7.9756</td>  \n",
       "</tr>\n",
       "<tr>\n",
       "  <th>Weekly_Sales</th> <td>-1.692e-07</td> <td>2.874e-08</td> <td>-5.8865</td> <td>0.0000</td>  <td>-2.255e-07</td> <td>-1.128e-07</td>\n",
       "</tr>\n",
       "</table><br/>id: 0x7fb0e84d5f60"
      ],
      "text/plain": [
       "                        RandomEffects Estimation Summary                        \n",
       "================================================================================\n",
       "Dep. Variable:           Unemployment   R-squared:                        0.0040\n",
       "Estimator:              RandomEffects   R-squared (Between):             -0.0056\n",
       "No. Observations:                5920   R-squared (Within):               0.0061\n",
       "Date:                Mon, May 22 2023   R-squared (Overall):              0.0054\n",
       "Time:                        23:24:27   Log-likelihood                   -9535.9\n",
       "Cov. Estimator:            Unadjusted                                           \n",
       "                                        F-statistic:                      23.796\n",
       "Entities:                         143   P-value                           0.0000\n",
       "Avg Obs:                       41.399   Distribution:                  F(1,5918)\n",
       "Min Obs:                       33.000                                           \n",
       "Max Obs:                       42.000   F-statistic (robust):             34.651\n",
       "                                        P-value                           0.0000\n",
       "Time periods:                      45   Distribution:                  F(1,5918)\n",
       "Avg Obs:                       131.56                                           \n",
       "Min Obs:                       17.000                                           \n",
       "Max Obs:                       143.00                                           \n",
       "                                                                                \n",
       "                              Parameter Estimates                               \n",
       "================================================================================\n",
       "              Parameter  Std. Err.     T-stat    P-value    Lower CI    Upper CI\n",
       "--------------------------------------------------------------------------------\n",
       "const            7.8964     0.0404     195.37     0.0000      7.8172      7.9756\n",
       "Weekly_Sales -1.692e-07  2.874e-08    -5.8865     0.0000  -2.255e-07  -1.128e-07\n",
       "================================================================================\n",
       "RandomEffectsResults, id: 0x7fb0e84d5f60"
      ]
     },
     "execution_count": 49,
     "metadata": {},
     "output_type": "execute_result"
    }
   ],
   "source": [
    "resultados_re"
   ]
  },
  {
   "cell_type": "markdown",
   "id": "53e2dec0-a764-4aad-909c-c5b75db9029a",
   "metadata": {},
   "source": [
    "## Test de Haussman"
   ]
  },
  {
   "cell_type": "code",
   "execution_count": 50,
   "id": "8312ca29-5f73-4da4-b856-d96d8c329655",
   "metadata": {},
   "outputs": [],
   "source": [
    "import numpy.linalg as la\n",
    "from scipy import stats\n",
    "import numpy as np"
   ]
  },
  {
   "cell_type": "code",
   "execution_count": 51,
   "id": "69fa4b58-fe35-400a-a9c7-1f86bc720cd6",
   "metadata": {},
   "outputs": [],
   "source": [
    "def hausman(fe, re):\n",
    "    b = fe.params\n",
    "    B = re.params\n",
    "    v_b = fe.cov\n",
    "    v_B = re.cov\n",
    "    df = b[np.abs(b) < 1e8].size\n",
    "    chi2 = np.dot((b - B).T, la.inv(v_b - v_B).dot(b - B)) \n",
    " \n",
    "    pval = stats.chi2.sf(chi2, df)\n",
    "    return chi2, df, pval"
   ]
  },
  {
   "cell_type": "code",
   "execution_count": 52,
   "id": "1b7284e0-a478-419c-9050-1f5be502b33c",
   "metadata": {},
   "outputs": [],
   "source": [
    "hausman = hausman(resultados_fe, resultados_re) "
   ]
  },
  {
   "cell_type": "code",
   "execution_count": 53,
   "id": "a9916712-8191-491d-9346-3a1094778b5e",
   "metadata": {},
   "outputs": [
    {
     "name": "stdout",
     "output_type": "stream",
     "text": [
      "chi-Squared: 0.9604453519464748\n",
      "degrees of freedom: 2\n",
      "p-Value:0.6186456189520686\n"
     ]
    }
   ],
   "source": [
    "print('chi-Squared: ' + str(hausman[0]))\n",
    "print('degrees of freedom: ' + str(hausman[1]))\n",
    "print('p-Value:' + str(hausman[2]))"
   ]
  },
  {
   "cell_type": "markdown",
   "id": "4afa5bc6-4dfb-4ba7-8789-f60ba0d9e656",
   "metadata": {},
   "source": [
    "Dado que el valor p es mayor a 0,05 no se rechaza la hipótesis nula y se concluye que no hay suficiente evidencia para sugerir que los efectos fijos son endógenos.\n",
    "No hay suficiente evidencia para rechazar la hipótesis nula de que los efectos fijos son exógenos. Esto implica que el modelo de efectos fijos puede es el apropiado."
   ]
  },
  {
   "cell_type": "markdown",
   "id": "9241f744-f5b7-4632-9787-f6365f5a6ddf",
   "metadata": {},
   "source": [
    "## Enfoque en el machine learning"
   ]
  },
  {
   "cell_type": "markdown",
   "id": "04902308-4dae-4a61-acce-2c3f9c1b2178",
   "metadata": {},
   "source": [
    "Para mi trabao me enfocare en el machine learning por lo que utilizare a la tienda numero 1 para esto utilizare como variable dependiente a las ventas y como variables independientes al CPI y el desempleo asi como los dias festivos, el objetivo sera describir como estas variables afectan directamente el monto de ventas de la tienda uno."
   ]
  },
  {
   "cell_type": "code",
   "execution_count": 63,
   "id": "2f81601d-38dc-46d9-90c9-bd5fd56e68b5",
   "metadata": {},
   "outputs": [],
   "source": [
    "df2=pd.read_csv(\"wm.csv\")"
   ]
  },
  {
   "cell_type": "code",
   "execution_count": 64,
   "id": "c9941693-70b5-4278-af90-66f77a7bb227",
   "metadata": {},
   "outputs": [
    {
     "data": {
      "text/html": [
       "<div>\n",
       "<style scoped>\n",
       "    .dataframe tbody tr th:only-of-type {\n",
       "        vertical-align: middle;\n",
       "    }\n",
       "\n",
       "    .dataframe tbody tr th {\n",
       "        vertical-align: top;\n",
       "    }\n",
       "\n",
       "    .dataframe thead th {\n",
       "        text-align: right;\n",
       "    }\n",
       "</style>\n",
       "<table border=\"1\" class=\"dataframe\">\n",
       "  <thead>\n",
       "    <tr style=\"text-align: right;\">\n",
       "      <th></th>\n",
       "      <th></th>\n",
       "      <th>Weekly_Sales</th>\n",
       "      <th>Holiday_Flag</th>\n",
       "      <th>CPI</th>\n",
       "      <th>Unemployment</th>\n",
       "      <th>Date</th>\n",
       "    </tr>\n",
       "    <tr>\n",
       "      <th>Date</th>\n",
       "      <th>Store</th>\n",
       "      <th></th>\n",
       "      <th></th>\n",
       "      <th></th>\n",
       "      <th></th>\n",
       "      <th></th>\n",
       "    </tr>\n",
       "  </thead>\n",
       "  <tbody>\n",
       "    <tr>\n",
       "      <th>05-02-2010</th>\n",
       "      <th>1</th>\n",
       "      <td>1643690.90</td>\n",
       "      <td>0</td>\n",
       "      <td>211.096358</td>\n",
       "      <td>8.106</td>\n",
       "      <td>05-02-2010</td>\n",
       "    </tr>\n",
       "    <tr>\n",
       "      <th>12-02-2010</th>\n",
       "      <th>1</th>\n",
       "      <td>1641957.44</td>\n",
       "      <td>1</td>\n",
       "      <td>211.242170</td>\n",
       "      <td>8.106</td>\n",
       "      <td>12-02-2010</td>\n",
       "    </tr>\n",
       "    <tr>\n",
       "      <th>19-02-2010</th>\n",
       "      <th>1</th>\n",
       "      <td>1611968.17</td>\n",
       "      <td>0</td>\n",
       "      <td>211.289143</td>\n",
       "      <td>8.106</td>\n",
       "      <td>19-02-2010</td>\n",
       "    </tr>\n",
       "    <tr>\n",
       "      <th>26-02-2010</th>\n",
       "      <th>1</th>\n",
       "      <td>1409727.59</td>\n",
       "      <td>0</td>\n",
       "      <td>211.319643</td>\n",
       "      <td>8.106</td>\n",
       "      <td>26-02-2010</td>\n",
       "    </tr>\n",
       "    <tr>\n",
       "      <th>05-03-2010</th>\n",
       "      <th>1</th>\n",
       "      <td>1554806.68</td>\n",
       "      <td>0</td>\n",
       "      <td>211.350143</td>\n",
       "      <td>8.106</td>\n",
       "      <td>05-03-2010</td>\n",
       "    </tr>\n",
       "    <tr>\n",
       "      <th>...</th>\n",
       "      <th>...</th>\n",
       "      <td>...</td>\n",
       "      <td>...</td>\n",
       "      <td>...</td>\n",
       "      <td>...</td>\n",
       "      <td>...</td>\n",
       "    </tr>\n",
       "    <tr>\n",
       "      <th>28-09-2012</th>\n",
       "      <th>45</th>\n",
       "      <td>713173.95</td>\n",
       "      <td>0</td>\n",
       "      <td>192.013558</td>\n",
       "      <td>8.684</td>\n",
       "      <td>28-09-2012</td>\n",
       "    </tr>\n",
       "    <tr>\n",
       "      <th>05-10-2012</th>\n",
       "      <th>45</th>\n",
       "      <td>733455.07</td>\n",
       "      <td>0</td>\n",
       "      <td>192.170412</td>\n",
       "      <td>8.667</td>\n",
       "      <td>05-10-2012</td>\n",
       "    </tr>\n",
       "    <tr>\n",
       "      <th>12-10-2012</th>\n",
       "      <th>45</th>\n",
       "      <td>734464.36</td>\n",
       "      <td>0</td>\n",
       "      <td>192.327265</td>\n",
       "      <td>8.667</td>\n",
       "      <td>12-10-2012</td>\n",
       "    </tr>\n",
       "    <tr>\n",
       "      <th>19-10-2012</th>\n",
       "      <th>45</th>\n",
       "      <td>718125.53</td>\n",
       "      <td>0</td>\n",
       "      <td>192.330854</td>\n",
       "      <td>8.667</td>\n",
       "      <td>19-10-2012</td>\n",
       "    </tr>\n",
       "    <tr>\n",
       "      <th>26-10-2012</th>\n",
       "      <th>45</th>\n",
       "      <td>760281.43</td>\n",
       "      <td>0</td>\n",
       "      <td>192.308899</td>\n",
       "      <td>8.667</td>\n",
       "      <td>26-10-2012</td>\n",
       "    </tr>\n",
       "  </tbody>\n",
       "</table>\n",
       "<p>5920 rows × 5 columns</p>\n",
       "</div>"
      ],
      "text/plain": [
       "                  Weekly_Sales  Holiday_Flag         CPI  Unemployment  \\\n",
       "Date       Store                                                         \n",
       "05-02-2010 1        1643690.90             0  211.096358         8.106   \n",
       "12-02-2010 1        1641957.44             1  211.242170         8.106   \n",
       "19-02-2010 1        1611968.17             0  211.289143         8.106   \n",
       "26-02-2010 1        1409727.59             0  211.319643         8.106   \n",
       "05-03-2010 1        1554806.68             0  211.350143         8.106   \n",
       "...                        ...           ...         ...           ...   \n",
       "28-09-2012 45        713173.95             0  192.013558         8.684   \n",
       "05-10-2012 45        733455.07             0  192.170412         8.667   \n",
       "12-10-2012 45        734464.36             0  192.327265         8.667   \n",
       "19-10-2012 45        718125.53             0  192.330854         8.667   \n",
       "26-10-2012 45        760281.43             0  192.308899         8.667   \n",
       "\n",
       "                        Date  \n",
       "Date       Store              \n",
       "05-02-2010 1      05-02-2010  \n",
       "12-02-2010 1      12-02-2010  \n",
       "19-02-2010 1      19-02-2010  \n",
       "26-02-2010 1      26-02-2010  \n",
       "05-03-2010 1      05-03-2010  \n",
       "...                      ...  \n",
       "28-09-2012 45     28-09-2012  \n",
       "05-10-2012 45     05-10-2012  \n",
       "12-10-2012 45     12-10-2012  \n",
       "19-10-2012 45     19-10-2012  \n",
       "26-10-2012 45     26-10-2012  \n",
       "\n",
       "[5920 rows x 5 columns]"
      ]
     },
     "execution_count": 64,
     "metadata": {},
     "output_type": "execute_result"
    }
   ],
   "source": [
    "df"
   ]
  },
  {
   "cell_type": "code",
   "execution_count": 69,
   "id": "9b2e7e1e-73cc-4c92-b112-7fdd5d9ad6f1",
   "metadata": {},
   "outputs": [],
   "source": [
    "\n",
    "\n",
    "Store_name= '1'\n",
    "\n",
    "df2 = df2[df2['Store'] == 1]"
   ]
  },
  {
   "cell_type": "code",
   "execution_count": 70,
   "id": "d06801d4-2234-4367-bb99-748cedea79e5",
   "metadata": {},
   "outputs": [
    {
     "data": {
      "text/html": [
       "<div>\n",
       "<style scoped>\n",
       "    .dataframe tbody tr th:only-of-type {\n",
       "        vertical-align: middle;\n",
       "    }\n",
       "\n",
       "    .dataframe tbody tr th {\n",
       "        vertical-align: top;\n",
       "    }\n",
       "\n",
       "    .dataframe thead th {\n",
       "        text-align: right;\n",
       "    }\n",
       "</style>\n",
       "<table border=\"1\" class=\"dataframe\">\n",
       "  <thead>\n",
       "    <tr style=\"text-align: right;\">\n",
       "      <th></th>\n",
       "      <th>Store</th>\n",
       "      <th>Date</th>\n",
       "      <th>Weekly_Sales</th>\n",
       "      <th>Holiday_Flag</th>\n",
       "      <th>Temperature</th>\n",
       "      <th>Fuel_Price</th>\n",
       "      <th>CPI</th>\n",
       "      <th>Unemployment</th>\n",
       "    </tr>\n",
       "  </thead>\n",
       "  <tbody>\n",
       "    <tr>\n",
       "      <th>0</th>\n",
       "      <td>1</td>\n",
       "      <td>05-02-2010</td>\n",
       "      <td>1643690.90</td>\n",
       "      <td>0</td>\n",
       "      <td>42.31</td>\n",
       "      <td>2.572</td>\n",
       "      <td>211.096358</td>\n",
       "      <td>8.106</td>\n",
       "    </tr>\n",
       "    <tr>\n",
       "      <th>1</th>\n",
       "      <td>1</td>\n",
       "      <td>12-02-2010</td>\n",
       "      <td>1641957.44</td>\n",
       "      <td>1</td>\n",
       "      <td>38.51</td>\n",
       "      <td>2.548</td>\n",
       "      <td>211.242170</td>\n",
       "      <td>8.106</td>\n",
       "    </tr>\n",
       "    <tr>\n",
       "      <th>2</th>\n",
       "      <td>1</td>\n",
       "      <td>19-02-2010</td>\n",
       "      <td>1611968.17</td>\n",
       "      <td>0</td>\n",
       "      <td>39.93</td>\n",
       "      <td>2.514</td>\n",
       "      <td>211.289143</td>\n",
       "      <td>8.106</td>\n",
       "    </tr>\n",
       "    <tr>\n",
       "      <th>3</th>\n",
       "      <td>1</td>\n",
       "      <td>26-02-2010</td>\n",
       "      <td>1409727.59</td>\n",
       "      <td>0</td>\n",
       "      <td>46.63</td>\n",
       "      <td>2.561</td>\n",
       "      <td>211.319643</td>\n",
       "      <td>8.106</td>\n",
       "    </tr>\n",
       "    <tr>\n",
       "      <th>4</th>\n",
       "      <td>1</td>\n",
       "      <td>05-03-2010</td>\n",
       "      <td>1554806.68</td>\n",
       "      <td>0</td>\n",
       "      <td>46.50</td>\n",
       "      <td>2.625</td>\n",
       "      <td>211.350143</td>\n",
       "      <td>8.106</td>\n",
       "    </tr>\n",
       "    <tr>\n",
       "      <th>...</th>\n",
       "      <td>...</td>\n",
       "      <td>...</td>\n",
       "      <td>...</td>\n",
       "      <td>...</td>\n",
       "      <td>...</td>\n",
       "      <td>...</td>\n",
       "      <td>...</td>\n",
       "      <td>...</td>\n",
       "    </tr>\n",
       "    <tr>\n",
       "      <th>138</th>\n",
       "      <td>1</td>\n",
       "      <td>28-09-2012</td>\n",
       "      <td>1437059.26</td>\n",
       "      <td>0</td>\n",
       "      <td>76.08</td>\n",
       "      <td>3.666</td>\n",
       "      <td>222.981658</td>\n",
       "      <td>6.908</td>\n",
       "    </tr>\n",
       "    <tr>\n",
       "      <th>139</th>\n",
       "      <td>1</td>\n",
       "      <td>05-10-2012</td>\n",
       "      <td>1670785.97</td>\n",
       "      <td>0</td>\n",
       "      <td>68.55</td>\n",
       "      <td>3.617</td>\n",
       "      <td>223.181477</td>\n",
       "      <td>6.573</td>\n",
       "    </tr>\n",
       "    <tr>\n",
       "      <th>140</th>\n",
       "      <td>1</td>\n",
       "      <td>12-10-2012</td>\n",
       "      <td>1573072.81</td>\n",
       "      <td>0</td>\n",
       "      <td>62.99</td>\n",
       "      <td>3.601</td>\n",
       "      <td>223.381296</td>\n",
       "      <td>6.573</td>\n",
       "    </tr>\n",
       "    <tr>\n",
       "      <th>141</th>\n",
       "      <td>1</td>\n",
       "      <td>19-10-2012</td>\n",
       "      <td>1508068.77</td>\n",
       "      <td>0</td>\n",
       "      <td>67.97</td>\n",
       "      <td>3.594</td>\n",
       "      <td>223.425723</td>\n",
       "      <td>6.573</td>\n",
       "    </tr>\n",
       "    <tr>\n",
       "      <th>142</th>\n",
       "      <td>1</td>\n",
       "      <td>26-10-2012</td>\n",
       "      <td>1493659.74</td>\n",
       "      <td>0</td>\n",
       "      <td>69.16</td>\n",
       "      <td>3.506</td>\n",
       "      <td>223.444251</td>\n",
       "      <td>6.573</td>\n",
       "    </tr>\n",
       "  </tbody>\n",
       "</table>\n",
       "<p>143 rows × 8 columns</p>\n",
       "</div>"
      ],
      "text/plain": [
       "     Store        Date  Weekly_Sales  Holiday_Flag  Temperature  Fuel_Price  \\\n",
       "0        1  05-02-2010    1643690.90             0        42.31       2.572   \n",
       "1        1  12-02-2010    1641957.44             1        38.51       2.548   \n",
       "2        1  19-02-2010    1611968.17             0        39.93       2.514   \n",
       "3        1  26-02-2010    1409727.59             0        46.63       2.561   \n",
       "4        1  05-03-2010    1554806.68             0        46.50       2.625   \n",
       "..     ...         ...           ...           ...          ...         ...   \n",
       "138      1  28-09-2012    1437059.26             0        76.08       3.666   \n",
       "139      1  05-10-2012    1670785.97             0        68.55       3.617   \n",
       "140      1  12-10-2012    1573072.81             0        62.99       3.601   \n",
       "141      1  19-10-2012    1508068.77             0        67.97       3.594   \n",
       "142      1  26-10-2012    1493659.74             0        69.16       3.506   \n",
       "\n",
       "            CPI  Unemployment  \n",
       "0    211.096358         8.106  \n",
       "1    211.242170         8.106  \n",
       "2    211.289143         8.106  \n",
       "3    211.319643         8.106  \n",
       "4    211.350143         8.106  \n",
       "..          ...           ...  \n",
       "138  222.981658         6.908  \n",
       "139  223.181477         6.573  \n",
       "140  223.381296         6.573  \n",
       "141  223.425723         6.573  \n",
       "142  223.444251         6.573  \n",
       "\n",
       "[143 rows x 8 columns]"
      ]
     },
     "execution_count": 70,
     "metadata": {},
     "output_type": "execute_result"
    }
   ],
   "source": [
    "df2"
   ]
  },
  {
   "cell_type": "code",
   "execution_count": 72,
   "id": "052807ce-15d0-4e9d-8048-01c10b7cb68d",
   "metadata": {},
   "outputs": [],
   "source": [
    "df2=df2[['Weekly_Sales', 'Holiday_Flag', \"CPI\", \"Unemployment\"]]"
   ]
  },
  {
   "cell_type": "code",
   "execution_count": 73,
   "id": "d32c35e9-79fa-44b2-8969-7b566fc89b95",
   "metadata": {},
   "outputs": [
    {
     "data": {
      "text/html": [
       "<div>\n",
       "<style scoped>\n",
       "    .dataframe tbody tr th:only-of-type {\n",
       "        vertical-align: middle;\n",
       "    }\n",
       "\n",
       "    .dataframe tbody tr th {\n",
       "        vertical-align: top;\n",
       "    }\n",
       "\n",
       "    .dataframe thead th {\n",
       "        text-align: right;\n",
       "    }\n",
       "</style>\n",
       "<table border=\"1\" class=\"dataframe\">\n",
       "  <thead>\n",
       "    <tr style=\"text-align: right;\">\n",
       "      <th></th>\n",
       "      <th>Weekly_Sales</th>\n",
       "      <th>Holiday_Flag</th>\n",
       "      <th>CPI</th>\n",
       "      <th>Unemployment</th>\n",
       "    </tr>\n",
       "  </thead>\n",
       "  <tbody>\n",
       "    <tr>\n",
       "      <th>0</th>\n",
       "      <td>1643690.90</td>\n",
       "      <td>0</td>\n",
       "      <td>211.096358</td>\n",
       "      <td>8.106</td>\n",
       "    </tr>\n",
       "    <tr>\n",
       "      <th>1</th>\n",
       "      <td>1641957.44</td>\n",
       "      <td>1</td>\n",
       "      <td>211.242170</td>\n",
       "      <td>8.106</td>\n",
       "    </tr>\n",
       "    <tr>\n",
       "      <th>2</th>\n",
       "      <td>1611968.17</td>\n",
       "      <td>0</td>\n",
       "      <td>211.289143</td>\n",
       "      <td>8.106</td>\n",
       "    </tr>\n",
       "    <tr>\n",
       "      <th>3</th>\n",
       "      <td>1409727.59</td>\n",
       "      <td>0</td>\n",
       "      <td>211.319643</td>\n",
       "      <td>8.106</td>\n",
       "    </tr>\n",
       "    <tr>\n",
       "      <th>4</th>\n",
       "      <td>1554806.68</td>\n",
       "      <td>0</td>\n",
       "      <td>211.350143</td>\n",
       "      <td>8.106</td>\n",
       "    </tr>\n",
       "    <tr>\n",
       "      <th>...</th>\n",
       "      <td>...</td>\n",
       "      <td>...</td>\n",
       "      <td>...</td>\n",
       "      <td>...</td>\n",
       "    </tr>\n",
       "    <tr>\n",
       "      <th>138</th>\n",
       "      <td>1437059.26</td>\n",
       "      <td>0</td>\n",
       "      <td>222.981658</td>\n",
       "      <td>6.908</td>\n",
       "    </tr>\n",
       "    <tr>\n",
       "      <th>139</th>\n",
       "      <td>1670785.97</td>\n",
       "      <td>0</td>\n",
       "      <td>223.181477</td>\n",
       "      <td>6.573</td>\n",
       "    </tr>\n",
       "    <tr>\n",
       "      <th>140</th>\n",
       "      <td>1573072.81</td>\n",
       "      <td>0</td>\n",
       "      <td>223.381296</td>\n",
       "      <td>6.573</td>\n",
       "    </tr>\n",
       "    <tr>\n",
       "      <th>141</th>\n",
       "      <td>1508068.77</td>\n",
       "      <td>0</td>\n",
       "      <td>223.425723</td>\n",
       "      <td>6.573</td>\n",
       "    </tr>\n",
       "    <tr>\n",
       "      <th>142</th>\n",
       "      <td>1493659.74</td>\n",
       "      <td>0</td>\n",
       "      <td>223.444251</td>\n",
       "      <td>6.573</td>\n",
       "    </tr>\n",
       "  </tbody>\n",
       "</table>\n",
       "<p>143 rows × 4 columns</p>\n",
       "</div>"
      ],
      "text/plain": [
       "     Weekly_Sales  Holiday_Flag         CPI  Unemployment\n",
       "0      1643690.90             0  211.096358         8.106\n",
       "1      1641957.44             1  211.242170         8.106\n",
       "2      1611968.17             0  211.289143         8.106\n",
       "3      1409727.59             0  211.319643         8.106\n",
       "4      1554806.68             0  211.350143         8.106\n",
       "..            ...           ...         ...           ...\n",
       "138    1437059.26             0  222.981658         6.908\n",
       "139    1670785.97             0  223.181477         6.573\n",
       "140    1573072.81             0  223.381296         6.573\n",
       "141    1508068.77             0  223.425723         6.573\n",
       "142    1493659.74             0  223.444251         6.573\n",
       "\n",
       "[143 rows x 4 columns]"
      ]
     },
     "execution_count": 73,
     "metadata": {},
     "output_type": "execute_result"
    }
   ],
   "source": [
    "df2"
   ]
  },
  {
   "cell_type": "code",
   "execution_count": 74,
   "id": "b05cdbd6-dde6-479b-8ceb-11503e13eb7c",
   "metadata": {},
   "outputs": [],
   "source": [
    "from sklearn.linear_model import LinearRegression"
   ]
  },
  {
   "cell_type": "code",
   "execution_count": 78,
   "id": "2473b95f-0c27-4e5c-9bbc-7915812091be",
   "metadata": {},
   "outputs": [],
   "source": [
    "from sklearn.preprocessing import LabelEncoder"
   ]
  },
  {
   "cell_type": "code",
   "execution_count": 86,
   "id": "3ee45ad8-7cac-4c90-8326-e96e9c5e4468",
   "metadata": {},
   "outputs": [],
   "source": [
    "X = df2[df2.columns.difference(['Weekly_Sales'])]\n",
    "y = df2.Weekly_Sales"
   ]
  },
  {
   "cell_type": "code",
   "execution_count": 87,
   "id": "c18913f7-b48b-466c-9ba1-c0d09d9ddefa",
   "metadata": {},
   "outputs": [],
   "source": [
    "from sklearn.model_selection import train_test_split"
   ]
  },
  {
   "cell_type": "code",
   "execution_count": 88,
   "id": "f3508336-4283-40b8-a2b0-79dd5f0da67f",
   "metadata": {},
   "outputs": [],
   "source": [
    "X_train , X_test , y_train , y_test = train_test_split(X , y , test_size = 0.30,random_state =152)"
   ]
  },
  {
   "cell_type": "code",
   "execution_count": 89,
   "id": "e6d4bf4d-cb5e-4c19-8140-9cb141bd3d04",
   "metadata": {},
   "outputs": [
    {
     "data": {
      "text/html": [
       "<div>\n",
       "<style scoped>\n",
       "    .dataframe tbody tr th:only-of-type {\n",
       "        vertical-align: middle;\n",
       "    }\n",
       "\n",
       "    .dataframe tbody tr th {\n",
       "        vertical-align: top;\n",
       "    }\n",
       "\n",
       "    .dataframe thead th {\n",
       "        text-align: right;\n",
       "    }\n",
       "</style>\n",
       "<table border=\"1\" class=\"dataframe\">\n",
       "  <thead>\n",
       "    <tr style=\"text-align: right;\">\n",
       "      <th></th>\n",
       "      <th>CPI</th>\n",
       "      <th>Holiday_Flag</th>\n",
       "      <th>Unemployment</th>\n",
       "    </tr>\n",
       "  </thead>\n",
       "  <tbody>\n",
       "    <tr>\n",
       "      <th>98</th>\n",
       "      <td>219.357722</td>\n",
       "      <td>0</td>\n",
       "      <td>7.866</td>\n",
       "    </tr>\n",
       "    <tr>\n",
       "      <th>93</th>\n",
       "      <td>218.220509</td>\n",
       "      <td>0</td>\n",
       "      <td>7.866</td>\n",
       "    </tr>\n",
       "    <tr>\n",
       "      <th>95</th>\n",
       "      <td>218.714733</td>\n",
       "      <td>0</td>\n",
       "      <td>7.866</td>\n",
       "    </tr>\n",
       "    <tr>\n",
       "      <th>133</th>\n",
       "      <td>222.171946</td>\n",
       "      <td>0</td>\n",
       "      <td>6.908</td>\n",
       "    </tr>\n",
       "    <tr>\n",
       "      <th>34</th>\n",
       "      <td>211.671989</td>\n",
       "      <td>0</td>\n",
       "      <td>7.838</td>\n",
       "    </tr>\n",
       "    <tr>\n",
       "      <th>...</th>\n",
       "      <td>...</td>\n",
       "      <td>...</td>\n",
       "      <td>...</td>\n",
       "    </tr>\n",
       "    <tr>\n",
       "      <th>128</th>\n",
       "      <td>221.932727</td>\n",
       "      <td>0</td>\n",
       "      <td>6.908</td>\n",
       "    </tr>\n",
       "    <tr>\n",
       "      <th>60</th>\n",
       "      <td>214.837166</td>\n",
       "      <td>0</td>\n",
       "      <td>7.682</td>\n",
       "    </tr>\n",
       "    <tr>\n",
       "      <th>70</th>\n",
       "      <td>215.043523</td>\n",
       "      <td>0</td>\n",
       "      <td>7.682</td>\n",
       "    </tr>\n",
       "    <tr>\n",
       "      <th>59</th>\n",
       "      <td>214.599939</td>\n",
       "      <td>0</td>\n",
       "      <td>7.742</td>\n",
       "    </tr>\n",
       "    <tr>\n",
       "      <th>139</th>\n",
       "      <td>223.181477</td>\n",
       "      <td>0</td>\n",
       "      <td>6.573</td>\n",
       "    </tr>\n",
       "  </tbody>\n",
       "</table>\n",
       "<p>100 rows × 3 columns</p>\n",
       "</div>"
      ],
      "text/plain": [
       "            CPI  Holiday_Flag  Unemployment\n",
       "98   219.357722             0         7.866\n",
       "93   218.220509             0         7.866\n",
       "95   218.714733             0         7.866\n",
       "133  222.171946             0         6.908\n",
       "34   211.671989             0         7.838\n",
       "..          ...           ...           ...\n",
       "128  221.932727             0         6.908\n",
       "60   214.837166             0         7.682\n",
       "70   215.043523             0         7.682\n",
       "59   214.599939             0         7.742\n",
       "139  223.181477             0         6.573\n",
       "\n",
       "[100 rows x 3 columns]"
      ]
     },
     "execution_count": 89,
     "metadata": {},
     "output_type": "execute_result"
    }
   ],
   "source": [
    "X_train"
   ]
  },
  {
   "cell_type": "code",
   "execution_count": 90,
   "id": "c9f59767-f678-4b9d-9ed0-75abca06e9cd",
   "metadata": {},
   "outputs": [
    {
     "name": "stdout",
     "output_type": "stream",
     "text": [
      "(100, 3)  <class 'pandas.core.frame.DataFrame'>\n",
      "(100,) \t  <class 'pandas.core.series.Series'>\n",
      "(43, 3)  <class 'pandas.core.frame.DataFrame'>\n",
      "(43,) \t  <class 'pandas.core.series.Series'>\n"
     ]
    }
   ],
   "source": [
    "print(X_train.shape,\"\",type(X_train))\n",
    "print(y_train.shape,\"\\t \",type(y_train))\n",
    "print(X_test.shape,\"\",type(X_test))\n",
    "print(y_test.shape,\"\\t \",type(y_test))"
   ]
  },
  {
   "cell_type": "code",
   "execution_count": 91,
   "id": "1bddeb12-06a2-4e75-8990-46872d8731f2",
   "metadata": {},
   "outputs": [
    {
     "data": {
      "text/html": [
       "<style>#sk-container-id-1 {color: black;background-color: white;}#sk-container-id-1 pre{padding: 0;}#sk-container-id-1 div.sk-toggleable {background-color: white;}#sk-container-id-1 label.sk-toggleable__label {cursor: pointer;display: block;width: 100%;margin-bottom: 0;padding: 0.3em;box-sizing: border-box;text-align: center;}#sk-container-id-1 label.sk-toggleable__label-arrow:before {content: \"▸\";float: left;margin-right: 0.25em;color: #696969;}#sk-container-id-1 label.sk-toggleable__label-arrow:hover:before {color: black;}#sk-container-id-1 div.sk-estimator:hover label.sk-toggleable__label-arrow:before {color: black;}#sk-container-id-1 div.sk-toggleable__content {max-height: 0;max-width: 0;overflow: hidden;text-align: left;background-color: #f0f8ff;}#sk-container-id-1 div.sk-toggleable__content pre {margin: 0.2em;color: black;border-radius: 0.25em;background-color: #f0f8ff;}#sk-container-id-1 input.sk-toggleable__control:checked~div.sk-toggleable__content {max-height: 200px;max-width: 100%;overflow: auto;}#sk-container-id-1 input.sk-toggleable__control:checked~label.sk-toggleable__label-arrow:before {content: \"▾\";}#sk-container-id-1 div.sk-estimator input.sk-toggleable__control:checked~label.sk-toggleable__label {background-color: #d4ebff;}#sk-container-id-1 div.sk-label input.sk-toggleable__control:checked~label.sk-toggleable__label {background-color: #d4ebff;}#sk-container-id-1 input.sk-hidden--visually {border: 0;clip: rect(1px 1px 1px 1px);clip: rect(1px, 1px, 1px, 1px);height: 1px;margin: -1px;overflow: hidden;padding: 0;position: absolute;width: 1px;}#sk-container-id-1 div.sk-estimator {font-family: monospace;background-color: #f0f8ff;border: 1px dotted black;border-radius: 0.25em;box-sizing: border-box;margin-bottom: 0.5em;}#sk-container-id-1 div.sk-estimator:hover {background-color: #d4ebff;}#sk-container-id-1 div.sk-parallel-item::after {content: \"\";width: 100%;border-bottom: 1px solid gray;flex-grow: 1;}#sk-container-id-1 div.sk-label:hover label.sk-toggleable__label {background-color: #d4ebff;}#sk-container-id-1 div.sk-serial::before {content: \"\";position: absolute;border-left: 1px solid gray;box-sizing: border-box;top: 0;bottom: 0;left: 50%;z-index: 0;}#sk-container-id-1 div.sk-serial {display: flex;flex-direction: column;align-items: center;background-color: white;padding-right: 0.2em;padding-left: 0.2em;position: relative;}#sk-container-id-1 div.sk-item {position: relative;z-index: 1;}#sk-container-id-1 div.sk-parallel {display: flex;align-items: stretch;justify-content: center;background-color: white;position: relative;}#sk-container-id-1 div.sk-item::before, #sk-container-id-1 div.sk-parallel-item::before {content: \"\";position: absolute;border-left: 1px solid gray;box-sizing: border-box;top: 0;bottom: 0;left: 50%;z-index: -1;}#sk-container-id-1 div.sk-parallel-item {display: flex;flex-direction: column;z-index: 1;position: relative;background-color: white;}#sk-container-id-1 div.sk-parallel-item:first-child::after {align-self: flex-end;width: 50%;}#sk-container-id-1 div.sk-parallel-item:last-child::after {align-self: flex-start;width: 50%;}#sk-container-id-1 div.sk-parallel-item:only-child::after {width: 0;}#sk-container-id-1 div.sk-dashed-wrapped {border: 1px dashed gray;margin: 0 0.4em 0.5em 0.4em;box-sizing: border-box;padding-bottom: 0.4em;background-color: white;}#sk-container-id-1 div.sk-label label {font-family: monospace;font-weight: bold;display: inline-block;line-height: 1.2em;}#sk-container-id-1 div.sk-label-container {text-align: center;}#sk-container-id-1 div.sk-container {/* jupyter's `normalize.less` sets `[hidden] { display: none; }` but bootstrap.min.css set `[hidden] { display: none !important; }` so we also need the `!important` here to be able to override the default hidden behavior on the sphinx rendered scikit-learn.org. See: https://github.com/scikit-learn/scikit-learn/issues/21755 */display: inline-block !important;position: relative;}#sk-container-id-1 div.sk-text-repr-fallback {display: none;}</style><div id=\"sk-container-id-1\" class=\"sk-top-container\"><div class=\"sk-text-repr-fallback\"><pre>LinearRegression()</pre><b>In a Jupyter environment, please rerun this cell to show the HTML representation or trust the notebook. <br />On GitHub, the HTML representation is unable to render, please try loading this page with nbviewer.org.</b></div><div class=\"sk-container\" hidden><div class=\"sk-item\"><div class=\"sk-estimator sk-toggleable\"><input class=\"sk-toggleable__control sk-hidden--visually\" id=\"sk-estimator-id-1\" type=\"checkbox\" checked><label for=\"sk-estimator-id-1\" class=\"sk-toggleable__label sk-toggleable__label-arrow\">LinearRegression</label><div class=\"sk-toggleable__content\"><pre>LinearRegression()</pre></div></div></div></div></div>"
      ],
      "text/plain": [
       "LinearRegression()"
      ]
     },
     "execution_count": 91,
     "metadata": {},
     "output_type": "execute_result"
    }
   ],
   "source": [
    "modelo_regresion = LinearRegression()\n",
    "modelo_regresion.fit(X_train, y_train)"
   ]
  },
  {
   "cell_type": "code",
   "execution_count": 92,
   "id": "539a2b08-9cf3-4b49-8c4d-cad4deead691",
   "metadata": {},
   "outputs": [],
   "source": [
    "predicciones_train = modelo_regresion.predict(X_train)\n",
    "predicciones_test = modelo_regresion.predict(X_test)"
   ]
  },
  {
   "cell_type": "code",
   "execution_count": 93,
   "id": "0cf3894c-812f-41fd-9e35-4649fb71e571",
   "metadata": {},
   "outputs": [],
   "source": [
    "from sklearn.metrics import mean_squared_error, mean_absolute_error"
   ]
  },
  {
   "cell_type": "code",
   "execution_count": 94,
   "id": "da7c1295-1905-439c-b425-5f61067b3acb",
   "metadata": {},
   "outputs": [
    {
     "name": "stdout",
     "output_type": "stream",
     "text": [
      "16797065988.3273\n"
     ]
    }
   ],
   "source": [
    "MSE_train = mean_squared_error(y_train, predicciones_train)\n",
    "MSE_test = mean_squared_error(y_test, predicciones_test)\n",
    "print(MSE_train)"
   ]
  },
  {
   "cell_type": "code",
   "execution_count": 95,
   "id": "6d52c1e5-519d-4ad6-923e-ccb3fc925df6",
   "metadata": {},
   "outputs": [
    {
     "name": "stdout",
     "output_type": "stream",
     "text": [
      "33073211667.670597\n"
     ]
    }
   ],
   "source": [
    "print(MSE_test)"
   ]
  },
  {
   "cell_type": "code",
   "execution_count": 96,
   "id": "7ccdbe9c-a523-4764-ac41-cea2499d717e",
   "metadata": {},
   "outputs": [],
   "source": [
    "import numpy as np"
   ]
  },
  {
   "cell_type": "code",
   "execution_count": 97,
   "id": "f1534d1b-009a-4f62-bf5f-b6f42491f4f8",
   "metadata": {},
   "outputs": [
    {
     "name": "stdout",
     "output_type": "stream",
     "text": [
      "129603.49527820344\n"
     ]
    }
   ],
   "source": [
    "RMSE_train = np.sqrt(MSE_train)\n",
    "RMSE_test = np.sqrt(MSE_test)\n",
    "print(RMSE_train)\n"
   ]
  },
  {
   "cell_type": "code",
   "execution_count": 98,
   "id": "41609c8f-b23f-4063-8880-d528fddfe73e",
   "metadata": {},
   "outputs": [
    {
     "name": "stdout",
     "output_type": "stream",
     "text": [
      "181860.41808945287\n"
     ]
    }
   ],
   "source": [
    "print(RMSE_test)"
   ]
  },
  {
   "cell_type": "code",
   "execution_count": 99,
   "id": "40bcdb08-5970-4566-a950-f5c859313dff",
   "metadata": {},
   "outputs": [
    {
     "name": "stdout",
     "output_type": "stream",
     "text": [
      "94057.36359405826\n"
     ]
    }
   ],
   "source": [
    "MAE_train = mean_absolute_error(y_train, predicciones_train)\n",
    "MAE_test = mean_absolute_error(y_test, predicciones_test)\n",
    "print(MAE_train)"
   ]
  },
  {
   "cell_type": "code",
   "execution_count": 100,
   "id": "feea0715-121d-4a89-9520-1f671984dd04",
   "metadata": {},
   "outputs": [
    {
     "name": "stdout",
     "output_type": "stream",
     "text": [
      "112633.91907726675\n"
     ]
    }
   ],
   "source": [
    "print(MAE_test)"
   ]
  },
  {
   "cell_type": "code",
   "execution_count": 101,
   "id": "8241cb3e-808f-491e-9c6c-77b5b8bec8fa",
   "metadata": {},
   "outputs": [],
   "source": [
    "from sklearn.metrics import r2_score"
   ]
  },
  {
   "cell_type": "code",
   "execution_count": 102,
   "id": "65ccbf2d-5c1e-4934-842a-6c81ca245d43",
   "metadata": {},
   "outputs": [
    {
     "name": "stdout",
     "output_type": "stream",
     "text": [
      "El R^2 de entrenamiento es: 0.17916643437840374\n",
      "El R^2 de prueba es: -0.01593627039436485\n"
     ]
    }
   ],
   "source": [
    "r_square_train = r2_score(y_train, predicciones_train)\n",
    "r_square_test  = r2_score(y_test, predicciones_test)\n",
    "print('El R^2 de entrenamiento es:' , r_square_train)\n",
    "print('El R^2 de prueba es:' , r_square_test)"
   ]
  },
  {
   "cell_type": "code",
   "execution_count": 103,
   "id": "02af15e1-d09b-4a9e-b51f-259240c189b0",
   "metadata": {},
   "outputs": [
    {
     "name": "stdout",
     "output_type": "stream",
     "text": [
      "intercepto: -3413533.3301765984\n",
      "pendiente: [ 18487.73127794 134565.76176581 127173.39994865]\n"
     ]
    }
   ],
   "source": [
    "print('intercepto:', modelo_regresion.intercept_)\n",
    "print('pendiente:', modelo_regresion.coef_) "
   ]
  },
  {
   "cell_type": "markdown",
   "id": "a28b8ef5-d75a-4c92-b434-681f80608aef",
   "metadata": {},
   "source": [
    "## Entrenamiento"
   ]
  },
  {
   "cell_type": "code",
   "execution_count": 104,
   "id": "ec4296c6-b2eb-4536-9799-36ea335720f0",
   "metadata": {},
   "outputs": [
    {
     "data": {
      "image/png": "[encoded data removed]",
      "text/plain": [
       "<Figure size 640x480 with 1 Axes>"
      ]
     },
     "metadata": {},
     "output_type": "display_data"
    }
   ],
   "source": [
    "fig, ax = plt.subplots()\n",
    "ax.plot(y_train.values)\n",
    "ax.plot(predicciones_train)\n",
    "plt.title(\"Valores observados vs. predichos en train set\");"
   ]
  },
  {
   "cell_type": "markdown",
   "id": "c1d46b1f-be0e-4382-9f0c-935bd2fbf020",
   "metadata": {},
   "source": [
    "## Prueba"
   ]
  },
  {
   "cell_type": "code",
   "execution_count": 107,
   "id": "c4d26c7b-51cd-41dc-9ef8-69bc109103f0",
   "metadata": {},
   "outputs": [
    {
     "data": {
      "image/png": "[encoded data removed]",
      "text/plain": [
       "<Figure size 640x480 with 1 Axes>"
      ]
     },
     "metadata": {},
     "output_type": "display_data"
    }
   ],
   "source": [
    "fig, ax = plt.subplots()\n",
    "ax.plot(y_test.values)\n",
    "ax.plot(predicciones_test)\n",
    "plt.title(\"Valores observados vs. predichos en test set\");"
   ]
  },
  {
   "cell_type": "markdown",
   "id": "0397e88b-c137-4e48-a8d0-3201f3b61004",
   "metadata": {},
   "source": [
    "## Variables con mayor poder explicativo."
   ]
  },
  {
   "cell_type": "code",
   "execution_count": 109,
   "id": "f1a49121-c67a-44e1-a3bc-ff2017b8bbf5",
   "metadata": {},
   "outputs": [],
   "source": [
    "from sklearn.preprocessing import StandardScaler"
   ]
  },
  {
   "cell_type": "code",
   "execution_count": 110,
   "id": "3609f754-3356-4eeb-8817-a2deb74fdacd",
   "metadata": {},
   "outputs": [],
   "source": [
    "sc = StandardScaler()"
   ]
  },
  {
   "cell_type": "code",
   "execution_count": 111,
   "id": "992a9562-3bb2-46bc-a8c7-a50fda55d773",
   "metadata": {},
   "outputs": [],
   "source": [
    "X_train_std = sc.fit_transform(X_train)\n",
    "X_test_std = sc.transform(X_test)"
   ]
  },
  {
   "cell_type": "code",
   "execution_count": 112,
   "id": "91b7d3ff-231a-4559-bb0c-6985e39b9d28",
   "metadata": {},
   "outputs": [
    {
     "data": {
      "text/html": [
       "<style>#sk-container-id-2 {color: black;background-color: white;}#sk-container-id-2 pre{padding: 0;}#sk-container-id-2 div.sk-toggleable {background-color: white;}#sk-container-id-2 label.sk-toggleable__label {cursor: pointer;display: block;width: 100%;margin-bottom: 0;padding: 0.3em;box-sizing: border-box;text-align: center;}#sk-container-id-2 label.sk-toggleable__label-arrow:before {content: \"▸\";float: left;margin-right: 0.25em;color: #696969;}#sk-container-id-2 label.sk-toggleable__label-arrow:hover:before {color: black;}#sk-container-id-2 div.sk-estimator:hover label.sk-toggleable__label-arrow:before {color: black;}#sk-container-id-2 div.sk-toggleable__content {max-height: 0;max-width: 0;overflow: hidden;text-align: left;background-color: #f0f8ff;}#sk-container-id-2 div.sk-toggleable__content pre {margin: 0.2em;color: black;border-radius: 0.25em;background-color: #f0f8ff;}#sk-container-id-2 input.sk-toggleable__control:checked~div.sk-toggleable__content {max-height: 200px;max-width: 100%;overflow: auto;}#sk-container-id-2 input.sk-toggleable__control:checked~label.sk-toggleable__label-arrow:before {content: \"▾\";}#sk-container-id-2 div.sk-estimator input.sk-toggleable__control:checked~label.sk-toggleable__label {background-color: #d4ebff;}#sk-container-id-2 div.sk-label input.sk-toggleable__control:checked~label.sk-toggleable__label {background-color: #d4ebff;}#sk-container-id-2 input.sk-hidden--visually {border: 0;clip: rect(1px 1px 1px 1px);clip: rect(1px, 1px, 1px, 1px);height: 1px;margin: -1px;overflow: hidden;padding: 0;position: absolute;width: 1px;}#sk-container-id-2 div.sk-estimator {font-family: monospace;background-color: #f0f8ff;border: 1px dotted black;border-radius: 0.25em;box-sizing: border-box;margin-bottom: 0.5em;}#sk-container-id-2 div.sk-estimator:hover {background-color: #d4ebff;}#sk-container-id-2 div.sk-parallel-item::after {content: \"\";width: 100%;border-bottom: 1px solid gray;flex-grow: 1;}#sk-container-id-2 div.sk-label:hover label.sk-toggleable__label {background-color: #d4ebff;}#sk-container-id-2 div.sk-serial::before {content: \"\";position: absolute;border-left: 1px solid gray;box-sizing: border-box;top: 0;bottom: 0;left: 50%;z-index: 0;}#sk-container-id-2 div.sk-serial {display: flex;flex-direction: column;align-items: center;background-color: white;padding-right: 0.2em;padding-left: 0.2em;position: relative;}#sk-container-id-2 div.sk-item {position: relative;z-index: 1;}#sk-container-id-2 div.sk-parallel {display: flex;align-items: stretch;justify-content: center;background-color: white;position: relative;}#sk-container-id-2 div.sk-item::before, #sk-container-id-2 div.sk-parallel-item::before {content: \"\";position: absolute;border-left: 1px solid gray;box-sizing: border-box;top: 0;bottom: 0;left: 50%;z-index: -1;}#sk-container-id-2 div.sk-parallel-item {display: flex;flex-direction: column;z-index: 1;position: relative;background-color: white;}#sk-container-id-2 div.sk-parallel-item:first-child::after {align-self: flex-end;width: 50%;}#sk-container-id-2 div.sk-parallel-item:last-child::after {align-self: flex-start;width: 50%;}#sk-container-id-2 div.sk-parallel-item:only-child::after {width: 0;}#sk-container-id-2 div.sk-dashed-wrapped {border: 1px dashed gray;margin: 0 0.4em 0.5em 0.4em;box-sizing: border-box;padding-bottom: 0.4em;background-color: white;}#sk-container-id-2 div.sk-label label {font-family: monospace;font-weight: bold;display: inline-block;line-height: 1.2em;}#sk-container-id-2 div.sk-label-container {text-align: center;}#sk-container-id-2 div.sk-container {/* jupyter's `normalize.less` sets `[hidden] { display: none; }` but bootstrap.min.css set `[hidden] { display: none !important; }` so we also need the `!important` here to be able to override the default hidden behavior on the sphinx rendered scikit-learn.org. See: https://github.com/scikit-learn/scikit-learn/issues/21755 */display: inline-block !important;position: relative;}#sk-container-id-2 div.sk-text-repr-fallback {display: none;}</style><div id=\"sk-container-id-2\" class=\"sk-top-container\"><div class=\"sk-text-repr-fallback\"><pre>LinearRegression()</pre><b>In a Jupyter environment, please rerun this cell to show the HTML representation or trust the notebook. <br />On GitHub, the HTML representation is unable to render, please try loading this page with nbviewer.org.</b></div><div class=\"sk-container\" hidden><div class=\"sk-item\"><div class=\"sk-estimator sk-toggleable\"><input class=\"sk-toggleable__control sk-hidden--visually\" id=\"sk-estimator-id-2\" type=\"checkbox\" checked><label for=\"sk-estimator-id-2\" class=\"sk-toggleable__label sk-toggleable__label-arrow\">LinearRegression</label><div class=\"sk-toggleable__content\"><pre>LinearRegression()</pre></div></div></div></div></div>"
      ],
      "text/plain": [
       "LinearRegression()"
      ]
     },
     "execution_count": 112,
     "metadata": {},
     "output_type": "execute_result"
    }
   ],
   "source": [
    "modelo_regresion_std = LinearRegression()\n",
    "modelo_regresion_std.fit(X_train_std, y_train)"
   ]
  },
  {
   "cell_type": "code",
   "execution_count": 113,
   "id": "d7bc357d-b921-4417-a5b7-f82166b229f8",
   "metadata": {},
   "outputs": [],
   "source": [
    "predicciones_train_std = modelo_regresion_std.predict(X_train_std)\n",
    "predicciones_test_std = modelo_regresion_std.predict(X_test_std)"
   ]
  },
  {
   "cell_type": "code",
   "execution_count": 114,
   "id": "be806c1c-e9ef-4967-b753-cbc58bf21cfb",
   "metadata": {},
   "outputs": [
    {
     "name": "stdout",
     "output_type": "stream",
     "text": [
      "El R^2 de entrenamiento es: 0.17916643437840396\n",
      "El R^2 de prueba es: -0.015936270394364405\n"
     ]
    }
   ],
   "source": [
    "r_square_train_std = r2_score(y_train, predicciones_train_std)\n",
    "r_square_test_std  = r2_score(y_test, predicciones_test_std)\n",
    "print('El R^2 de entrenamiento es:' , r_square_train_std)\n",
    "print('El R^2 de prueba es:' , r_square_test_std)"
   ]
  },
  {
   "cell_type": "code",
   "execution_count": 115,
   "id": "8b5ebcdf-d853-46d9-a86c-16c5fbb30777",
   "metadata": {},
   "outputs": [
    {
     "data": {
      "image/png": "[encoded data removed]",
      "text/plain": [
       "<Figure size 640x480 with 1 Axes>"
      ]
     },
     "metadata": {},
     "output_type": "display_data"
    }
   ],
   "source": [
    "fig, ax = plt.subplots()\n",
    "ax.plot(y_train.values)\n",
    "ax.plot(predicciones_train_std)\n",
    "plt.title(\"Valores observados vs. predichos en train set\");"
   ]
  },
  {
   "cell_type": "code",
   "execution_count": 116,
   "id": "b8ae90c7-4d8f-4078-9f56-054697fb1745",
   "metadata": {},
   "outputs": [
    {
     "data": {
      "image/png": "[encoded data removed]",
      "text/plain": [
       "<Figure size 640x480 with 1 Axes>"
      ]
     },
     "metadata": {},
     "output_type": "display_data"
    }
   ],
   "source": [
    "fig, ax = plt.subplots()\n",
    "ax.plot(y_test.values)\n",
    "ax.plot(predicciones_test_std)\n",
    "plt.title(\"Valores observados vs. predichos en test set\");"
   ]
  },
  {
   "cell_type": "code",
   "execution_count": 117,
   "id": "fe8db711-1bd5-4db1-b7a3-baa3603f30e6",
   "metadata": {},
   "outputs": [],
   "source": [
    "importancia = modelo_regresion_std.coef_"
   ]
  },
  {
   "cell_type": "code",
   "execution_count": 118,
   "id": "f3d1b4a7-d57c-4063-83dc-6f28aaf100d7",
   "metadata": {},
   "outputs": [
    {
     "name": "stdout",
     "output_type": "stream",
     "text": [
      "Variable explicativa No. 0, Score: 80216.47609\n",
      "Variable explicativa No. 1, Score: 34334.05263\n",
      "Variable explicativa No. 2, Score: 48700.95513\n"
     ]
    }
   ],
   "source": [
    "for i,v in enumerate(importancia):\n",
    "    print('Variable explicativa No. %0d, Score: %.5f' % (i,v))"
   ]
  },
  {
   "cell_type": "code",
   "execution_count": 119,
   "id": "153ef535-74d2-4c14-9a91-71198c14e4a1",
   "metadata": {},
   "outputs": [
    {
     "data": {
      "image/png": "[encoded data removed]",
      "text/plain": [
       "<Figure size 640x480 with 1 Axes>"
      ]
     },
     "metadata": {},
     "output_type": "display_data"
    }
   ],
   "source": [
    "plt.bar([x for x in range(len(importancia))], importancia)\n",
    "plt.show()"
   ]
  },
  {
   "cell_type": "markdown",
   "id": "7585b0f2-f4f9-40c7-9636-041bc063fdcf",
   "metadata": {},
   "source": [
    "Todas las 3 variables tienen un gran poder explicativo sobre el desempeño en ventas semanales, sin embargo los valores son extremadamente altos."
   ]
  },
  {
   "cell_type": "code",
   "execution_count": null,
   "id": "c12afae6-1cc2-428c-854f-8aa8a3193110",
   "metadata": {},
   "outputs": [],
   "source": []
  }
 ],
 "metadata": {
  "kernelspec": {
   "display_name": "Python 3 (ipykernel)",
   "language": "python",
   "name": "python3"
  },
  "language_info": {
   "codemirror_mode": {
    "name": "ipython",
    "version": 3
   },
   "file_extension": ".py",
   "mimetype": "text/x-python",
   "name": "python",
   "nbconvert_exporter": "python",
   "pygments_lexer": "ipython3",
   "version": "3.10.9"
  }
 },
 "nbformat": 4,
 "nbformat_minor": 5
}
